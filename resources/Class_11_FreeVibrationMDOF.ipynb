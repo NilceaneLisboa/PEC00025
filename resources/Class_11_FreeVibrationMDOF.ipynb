{
 "cells": [
  {
   "cell_type": "markdown",
   "metadata": {},
   "source": [
    "Universidade Federal do Rio Grande do Sul (UFRGS)   \n",
    "Programa de Pós-Graduação em Engenharia Civil (PPGEC)   \n",
    "\n",
    "# PEC00025: Introduction to Vibration Theory\n",
    "\n",
    "\n",
    "### Class 11 - Free vibration of multi degree of freedom systems\n",
    "\n",
    "[1.   Natural vibration modes and frequency](#section_1)  \n",
    "[1.1. The general solution for free vibration](#section_11)  \n",
    "[1.2. Natural vibration modes and frequencies](#section_12)  \n",
    "[2.   Examples of modal properties assessment](#section_2)  \n",
    "[2.1. Example 1: steel plane truss](#section_21)  \n",
    "[2.2. Example 2: beam element](#section_22)  \n",
    "[2.3. Example 3: experimental 3-dof model](#section_23)  \n",
    "[3.   Structural response to initial conditions](#section_3)  \n",
    "[4.   The Rayleigh viscous damping matrix](#section_4)  \n",
    "[5.   Assignment](#section_5)  \n",
    "\n",
    "---\n",
    "_Prof. Marcelo M. Rocha, Dr.techn._ [(ORCID)](https://orcid.org/0000-0001-5640-1020)  \n",
    "_Porto Alegre, RS, Brazil_ \n"
   ]
  },
  {
   "cell_type": "code",
   "execution_count": 2,
   "metadata": {},
   "outputs": [],
   "source": [
    "# Importing Python modules required for this notebook\n",
    "# (this cell must be executed with \"shift+enter\" before any other Python cell)\n",
    "\n",
    "import numpy as np\n",
    "import matplotlib.pyplot as plt\n",
    "import scipy.linalg as sc\n",
    "\n",
    "# Load matrices generated in Class 10 (that notebook must be run firstly!)\n",
    "\n",
    "import pickle as pk\n",
    "\n",
    "with open('data/sample_KM.pk', 'rb') as target:\n",
    "    K1, M1, K2, M2, K3, M3 = pk.load(target)\n"
   ]
  },
  {
   "cell_type": "markdown",
   "metadata": {},
   "source": [
    "## 1. Natural vibration modes and frequencies <a name=\"section_1\"></a> \n",
    "\n",
    "### 1.1. The general solution for free vibration <a name=\"section_11\"></a> \n",
    "\n",
    "Once the stiffness and mass matrices are defined for a given structure, the\n",
    "undamped equilibrium matrix equation results to be a set of coupled equilibrium\n",
    "equations, each one for one of the degrees of freedom. In matrix forms it reads:\n",
    "\n",
    "$$ \\mathbf{M} \\, \\ddot{\\vec{u}} + \\mathbf{K} \\, \\vec{u} = \\vec{F}(t) $$ \n",
    "\n",
    "where $\\vec{F}(t)$ is the (time dependent) external loads vector.\n",
    "In the case of free vibration we have:\n",
    "\n",
    "$$ \\mathbf{M} \\, \\ddot{\\vec{u}} + \\mathbf{K} \\, \\vec{u} = \\vec{0} $$ \n",
    "\n",
    "Let us now assume that there is a solution $\\vec{u}(t)$ such that:\n",
    "\n",
    "$$ \\vec{u}(t) = u_k(t) \\, \\vec{\\varphi}_k $$\n",
    "\n",
    "where $\\vec{\\varphi}_k$ is not time dependent. This assumption may be\n",
    "understood as a separation of time and space dependance of $\\vec{u}(t)$.\n",
    "Now the acceleration vector results to be:\n",
    "\n",
    "$$ \\ddot{\\vec{u}}(t) = \\ddot{u}_k(t)  \\, \\vec{\\varphi}_k $$\n",
    "\n",
    "and the free vibration equation becomes:\n",
    "\n",
    "$$ \\ddot{u}_k(t) \\, \\mathbf{M} \\, \\vec{\\varphi}_k  + \n",
    "          u_k(t) \\, \\mathbf{K} \\, \\vec{\\varphi}_k  = \\vec{0} $$ \n",
    "\n",
    "Pre-multiplying this equation by $\\mathbf{K}^{-1}$ and dividing by $u_k(t)$ results:\n",
    "\n",
    "$$ \\frac{\\ddot{u}_k(t)}{u_k(t)} \\, \\mathbf{D} \\, \\vec{\\varphi}_k  + \n",
    "         \\vec{\\varphi}_k  = \\vec{0} $$ \n",
    "\n",
    "where $\\mathbf{D} = \\mathbf{K}^{-1} \\, \\mathbf{M}$ is called the\n",
    "_system dynamic matrix_.\n",
    "Recalling that $\\vec{\\varphi}_k$ is not time dependent implies that the equation\n",
    "above is only valid if the coefficient of matrix $\\mathbf{D}$ is constant.\n",
    "We denote this constant as $\\omega_k^2$ and the condition becomes:\n",
    "\n",
    "$$ \\ddot{u}_k(t) + \\omega_k^2 u_k(t) = 0 $$\n",
    "\n",
    "The solution for this equation has the general form:\n",
    "\n",
    "$$ u_k(t) = u_{k0} \\sin \\left( \\omega_k t + \\theta_k \\right) $$\n",
    "\n",
    "which is the same form found for a single degree of freedom system.\n",
    "However, the time function $u_k(t)$ is only part of the solution for $\\vec{u}(t)$,\n",
    "corresponding to its time dependent amplitude. \n",
    "There is still the need of finding the time independent vector, $\\vec{\\varphi}_k$,\n",
    "and the free vibration frequency, $\\omega_k$.\n"
   ]
  },
  {
   "cell_type": "markdown",
   "metadata": {},
   "source": [
    "### 1.1. Natural vibration modes and frequencies <a name=\"section_12\"></a> \n",
    "\n",
    "The general amplitude solution above implies that the acceleration amplitude is:\n",
    "\n",
    "$$ \\ddot{\\vec{u}}(t) = -\\omega_k^2 u_{k0} \n",
    "   \\sin \\left( \\omega_k t + \\theta_k \\right) \\, \\vec{\\varphi}_k $$\n",
    "\n",
    "Replacing this result in the free vibration equation and simplifying gives:\n",
    "\n",
    "$$ \\mathbf{K} \\, \\vec{\\varphi}_k = \\omega_k^2 \\, \\mathbf{M} \\, \\vec{\\varphi}_k  $$ \n",
    "\n",
    "or, alternativelly, with the dynamic matrix:\n",
    "\n",
    "$$ \\mathbf{D} \\, \\vec{\\varphi}_k = \\lambda_k \\, \\vec{\\varphi}_k  $$ \n",
    "\n",
    "with $\\lambda_k = 1\\,/\\,\\omega_k^2$.\n",
    "The two equations above represent an eigenvalue/eigenvector problem, which\n",
    "has as many solutions as the matrices order, which is the number\n",
    "of system degrees of freedom. \n",
    "Each solution is a pair $\\left( \\omega_k, \\vec{\\varphi}_k \\right)$, \n",
    "or alternativelly $\\left( \\lambda_k, \\vec{\\varphi}_k \\right)$ if the \n",
    "dynamic matrix is used.\n",
    "\n",
    "Numerical algorithms for solving this eigenproblem are available in many\n",
    "environments, including the best models of HP handheld calculators. \n",
    "In Python, they are available in ```scipy.linalg``` module and will be now\n",
    "presented with the three examples provided in the previous class.\n"
   ]
  },
  {
   "cell_type": "markdown",
   "metadata": {},
   "source": [
    "## 2. Examples of modal properties assessment <a name=\"section_2\"></a> \n",
    "\n",
    "### 2.1. Example 1: steel plane truss  <a name=\"section_21\"></a> \n",
    "\n",
    "The eigenvalues and eigenvectors are solved with ```scipy``` function ```eig``` \n",
    "from module ```linalg```.\n",
    "For the steel truss presented last class this is done as follows: \n"
   ]
  },
  {
   "cell_type": "code",
   "execution_count": 6,
   "metadata": {},
   "outputs": [],
   "source": [
    "# Uses scipy to solve the standard eigenvalue problem\n",
    "w21, Phi1 = sc.eig(K1, M1)\n",
    "\n",
    "# Ensure ascending order of eigenvalues\n",
    "iw   = w21.argsort()\n",
    "w21  = w21[iw]\n",
    "Phi1 = Phi1[:,iw]\n",
    "\n",
    "# Eigenvalues to vibration frequencies\n",
    "wk1  = np.sqrt(np.real(w21)) \n",
    "fk1  = wk1/2/np.pi\n"
   ]
  },
  {
   "cell_type": "markdown",
   "metadata": {},
   "source": [
    "The script below shows the results as nodal displacements at the truss top.\n"
   ]
  },
  {
   "cell_type": "code",
   "execution_count": 7,
   "metadata": {},
   "outputs": [
    {
     "data": {
      "image/png": "[encoded data removed]",
      "text/plain": [
       "<Figure size 864x720 with 5 Axes>"
      ]
     },
     "metadata": {},
     "output_type": "display_data"
    }
   ],
   "source": [
    "plt.figure(1, figsize=(12,10))\n",
    "x = np.arange(0, 14, 2)\n",
    "\n",
    "for k in range(5):\n",
    "    pk = np.zeros(7)\n",
    "    pk[1:-1] = Phi1[:,k]\n",
    "    pk /= np.max(np.abs(pk))   # adjust scale for unity amplitude\n",
    "    \n",
    "    plt.subplot(5,1,k+1)\n",
    "    plt.plot(x, pk)\n",
    "    \n",
    "    plt.xlim( 0.0, 12.0);\n",
    "    plt.ylim(-1.5,  1.5);  plt.ylabel(str(k+1));\n",
    "    plt.text(10, 1, 'fk = {0:3.1f}Hz'.format(fk1[k]));\n",
    "    plt.grid(True)\n",
    "\n",
    "plt.xlabel('x');\n"
   ]
  },
  {
   "cell_type": "markdown",
   "metadata": {},
   "source": [
    "### 2.2. Example 2: beam element <a name=\"section_22\"></a> \n",
    "\n"
   ]
  },
  {
   "cell_type": "markdown",
   "metadata": {},
   "source": [
    "The interpolation functions could not be dumped with ```pickle```, so we must re-create\n",
    "them for visualizing the modal shapes:\n"
   ]
  },
  {
   "cell_type": "code",
   "execution_count": null,
   "metadata": {},
   "outputs": [],
   "source": [
    "# Beam length discretization\n",
    "L   = 1\n",
    "\n",
    "# Defining a list of lambda functions\n",
    "phi = []\n",
    "phi.append(lambda xi:  1 - 3*xi*xi + 2*xi*xi*xi)\n",
    "phi.append(lambda xi:  L*(xi - 2*xi*xi + xi*xi*xi))\n",
    "phi.append(lambda xi:  3*xi*xi - 2*xi*xi*xi)\n",
    "phi.append(lambda xi:  L*(-xi*xi + xi*xi*xi ))\n"
   ]
  },
  {
   "cell_type": "markdown",
   "metadata": {},
   "source": [
    "Furthermore, the stiffness matrix is not positive definite, for no \n",
    "boundary conditions have been applied so far (it is a bar \"floating in space\").\n",
    "It is necessary to restrain at least two degrees of freedom to suppress a \n",
    "free body motion.\n",
    "For instance, to model a cantilever beam we can restrain $u_1 = 0$ and $u_2 = 0$,\n",
    "what implies that the first two rows and two columns of $\\mathbf{K}$ and \n",
    "$\\mathbf{M}$ can be removed:\n"
   ]
  },
  {
   "cell_type": "code",
   "execution_count": null,
   "metadata": {},
   "outputs": [],
   "source": [
    "K2 = K2[2:,2:]\n",
    "M2 = M2[2:,2:]\n"
   ]
  },
  {
   "cell_type": "markdown",
   "metadata": {},
   "source": [
    "Now the eigenvalues problem can be solved:"
   ]
  },
  {
   "cell_type": "code",
   "execution_count": null,
   "metadata": {},
   "outputs": [],
   "source": [
    "# Uses scipy to solve the standard eigenvalue problem\n",
    "w22, Phi2 = sc.eig(K2, M2)\n",
    "\n",
    "# Ensure ascending order of eigenvalues\n",
    "iw   = w22.argsort()\n",
    "w22  = w22[iw]\n",
    "Phi2 = Phi2[:,iw]\n",
    "\n",
    "# Eigenvalues to vibration frequencies\n",
    "wk2  = np.sqrt(np.real(w22)) \n",
    "fk2  = wk2/2/np.pi\n"
   ]
  },
  {
   "cell_type": "markdown",
   "metadata": {},
   "source": [
    "For the visualization below, the vibration modes are a linear combination of the \n",
    "interpolation functions (for the remaining degrees of freedom), each one multiplied \n",
    "by the resulting eingenvector coordinate.\n"
   ]
  },
  {
   "cell_type": "code",
   "execution_count": null,
   "metadata": {},
   "outputs": [],
   "source": [
    "plt.figure(2, figsize=(12,6))\n",
    "x  = np.linspace(0, 1, 200)\n",
    "\n",
    "for k in range(2):\n",
    "    pk = Phi2[:,k]\n",
    "    px = np.zeros(x.shape)\n",
    "    \n",
    "    for km in range(2):\n",
    "        px += pk[km]*phi[km+2](x)   # superpose interpolations\n",
    "    \n",
    "    px /= np.max(np.abs(px))        # adjust scale for unity amplitude\n",
    "    plt.subplot(2,1,k+1)\n",
    "    plt.plot(x, px)\n",
    "   \n",
    "    plt.xlim( 0.0, 1.0);\n",
    "    plt.ylim(-1.5, 1.5);  plt.ylabel(str(k+1));\n",
    "    plt.grid(True)\n",
    "    \n",
    "    plt.text(0.8, 1.0, 'fk = {0:4.2f}Hz'.format(fk2[k]));\n",
    "\n",
    "plt.xlabel('x');\n"
   ]
  },
  {
   "cell_type": "markdown",
   "metadata": {},
   "source": [
    "### 2.3.Example 3: experimental 3-dof model  <a name=\"section_23\"></a> \n",
    "\n"
   ]
  },
  {
   "cell_type": "code",
   "execution_count": null,
   "metadata": {},
   "outputs": [],
   "source": [
    "# Uses scipy to solve the standard eigenvalue problem\n",
    "w23, Phi3 = sc.eig(K3, M3)\n",
    "\n",
    "# Ensure ascending order of eigenvalues\n",
    "iw   = w23.argsort()\n",
    "w23  = w23[iw]\n",
    "Phi3 = Phi3[:,iw]\n",
    "\n",
    "# Eigenvalues to vibration frequencies\n",
    "wk3  = np.sqrt(np.real(w23)) \n",
    "fk3  = wk3/2/np.pi\n"
   ]
  },
  {
   "cell_type": "code",
   "execution_count": null,
   "metadata": {},
   "outputs": [],
   "source": [
    "plt.figure(3, figsize=(12,6))\n",
    "x = np.arange(4)\n",
    "\n",
    "for k in range(3):\n",
    "    pk = np.zeros(4)\n",
    "    pk[1:] = Phi3[::-1,k]\n",
    "    pk /= np.max(np.abs(pk))   # adjust scale for unity amplitude\n",
    "    \n",
    "    plt.subplot(1,3,k+1)\n",
    "    plt.plot(pk, x)\n",
    "    \n",
    "    plt.xlim(-1.5, 1.5);  plt.ylabel(str(k+1));\n",
    "    plt.ylim( 0.0, 3.0);\n",
    "    plt.text( 0.5, 2.0, 'fk = {0:3.1f}Hz'.format(fk3[k]));\n",
    "    plt.grid(True)\n"
   ]
  },
  {
   "cell_type": "markdown",
   "metadata": {},
   "source": [
    "\n",
    "\n",
    "<table>\n",
    " <tr>\n",
    "   <td><img src=\"images/model3dof_mode1.jpg\" alt=\"3dof mode 1\" width=\"240px\"/></td>\n",
    "   <td><img src=\"images/model3dof_mode2.jpg\" alt=\"3dof mode 2\" width=\"240px\"/></td>\n",
    "   <td><img src=\"images/model3dof_mode3.jpg\" alt=\"3dof mode 3\" width=\"240px\"/></td>\n",
    " </tr>\n",
    " <tr>\n",
    "   <td>$f_1 =  5.5$Hz</td>\n",
    "   <td>$f_2 = 15.4$Hz</td>\n",
    "   <td>$f_3 = 22.1$Hz</td>\n",
    " </tr>\n",
    "</table> \n",
    "\n",
    "\n"
   ]
  },
  {
   "cell_type": "markdown",
   "metadata": {},
   "source": [
    "## 3. Structural response to initial conditions <a name=\"section_3\"></a> \n",
    "\n"
   ]
  },
  {
   "cell_type": "code",
   "execution_count": null,
   "metadata": {},
   "outputs": [],
   "source": []
  },
  {
   "cell_type": "markdown",
   "metadata": {},
   "source": [
    "## 4. The Rayleigh viscous damping matrix <a name=\"section_4\"></a> \n",
    "\n"
   ]
  },
  {
   "cell_type": "code",
   "execution_count": null,
   "metadata": {},
   "outputs": [],
   "source": []
  },
  {
   "cell_type": "markdown",
   "metadata": {},
   "source": []
  },
  {
   "cell_type": "markdown",
   "metadata": {},
   "source": [
    "## 5. Assignments <a name=\"section_5\"></a> \n",
    "\n"
   ]
  },
  {
   "cell_type": "code",
   "execution_count": null,
   "metadata": {},
   "outputs": [],
   "source": []
  }
 ],
 "metadata": {
  "kernelspec": {
   "display_name": "Python 3",
   "language": "python",
   "name": "python3"
  },
  "language_info": {
   "codemirror_mode": {
    "name": "ipython",
    "version": 3
   },
   "file_extension": ".py",
   "mimetype": "text/x-python",
   "name": "python",
   "nbconvert_exporter": "python",
   "pygments_lexer": "ipython3",
   "version": "3.6.5"
  }
 },
 "nbformat": 4,
 "nbformat_minor": 2
}
