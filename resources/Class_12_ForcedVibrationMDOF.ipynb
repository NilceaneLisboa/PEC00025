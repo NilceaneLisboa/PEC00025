{
 "cells": [
  {
   "cell_type": "markdown",
   "metadata": {},
   "source": [
    "## Universidade Federal do Rio Grande do Sul (UFRGS)   \n",
    "Programa de Pós-Graduação em Engenharia Civil (PPGEC)   \n",
    "\n",
    "# PEC00025: Introduction to Vibration Theory\n",
    "\n",
    "\n",
    "### Class 12 - Forced vibration of multi degree of freedom systems\n",
    "\n",
    "[1.   The Rayleigh quotient](#section_1)  \n",
    "[2.   Modal superposition](#section_2)  \n",
    "[3.   Elastic solution from modal analysis](#section_3)  \n",
    "[4.   Examples of dynamic response](#section_4)  \n",
    "[5.   Assignment](#section_5)  \n",
    "\n",
    "---\n",
    "_Prof. Marcelo M. Rocha, Dr.techn._ [(ORCID)](https://orcid.org/0000-0001-5640-1020)  \n",
    "_Porto Alegre, RS, Brazil_ \n"
   ]
  },
  {
   "cell_type": "code",
   "execution_count": 1,
   "metadata": {},
   "outputs": [],
   "source": [
    "# Importing Python modules required for this notebook\n",
    "# (this cell must be executed with \"shift+enter\" before any other Python cell)\n",
    "\n",
    "import numpy as np\n",
    "import matplotlib.pyplot as plt\n",
    "import pickle as pk\n",
    "\n",
    "# Load matrices generated in Class 10 and 11 (those notebooks must be run firstly!)\n",
    "\n",
    "with open('data/sample_KM.pk', 'rb') as KM:\n",
    "    K1, M1, K2, M2, K3, M3 = pk.load(KM)\n",
    "\n",
    "with open('data/sample_EGV.pk', 'rb') as EGV:\n",
    "    wk1, Phi1, wk2, Phi2, wk3, Phi3 = pk.load(EGV)\n"
   ]
  },
  {
   "cell_type": "markdown",
   "metadata": {},
   "source": [
    "## 1. The Rayleigh quotient <a name=\"section_1\"></a> \n",
    "\n",
    "Iteration converging to the first eigenvector/eigenvalue:\n"
   ]
  },
  {
   "cell_type": "code",
   "execution_count": 54,
   "metadata": {},
   "outputs": [
    {
     "name": "stdout",
     "output_type": "stream",
     "text": [
      "Initial guess:        35.38946880679624 [0.57735027 0.57735027 0.57735027]\n",
      "Iteration number 1:   34.043883977015206 [0.71713717 0.5976143  0.35856858]\n",
      "Iteration number 2:   34.023769228784474 [0.73435802 0.59222421 0.33164556]\n",
      "Iteration number 3:   34.02345167206512 [0.73663472 0.59118455 0.32843586]\n",
      "\n",
      "Solution from scipy:  34.023446468880074 [0.73697623 0.59100905 0.32798528]\n"
     ]
    }
   ],
   "source": [
    "qk = np.ones((3,1))/np.sqrt(3)   # initial guess for eigenvector\n",
    "\n",
    "D  = np.dot(np.linalg.inv(K3),M3)\n",
    "lb = float(np.dot(qk.T,np.dot(D, qk)))\n",
    "\n",
    "print('Initial guess:       '.format(i+1), 1/np.sqrt(lb), qk.T[0])\n",
    "\n",
    "for i in range(3):\n",
    "    qk = np.dot(D, qk)\n",
    "    qk = qk/np.linalg.norm(qk)\n",
    "    lb = float(np.dot(qk.T,np.dot(D, qk)))\n",
    "    \n",
    "    print('Iteration number {0}:  '.format(i+1), 1/np.sqrt(lb), qk.T[0])\n",
    "\n",
    "print('\\nSolution from scipy: ',wk3[0], Phi3[:,0].T)\n"
   ]
  },
  {
   "cell_type": "markdown",
   "metadata": {},
   "source": [
    "Eigenvector-eigenvalue from some elastic deformation:\n"
   ]
  },
  {
   "cell_type": "code",
   "execution_count": 55,
   "metadata": {},
   "outputs": [
    {
     "name": "stdout",
     "output_type": "stream",
     "text": [
      "Estimated from Rayleigh quotient: 5.44Hz\n",
      "Previously calculated with scipy: 5.41Hz\n"
     ]
    }
   ],
   "source": [
    "# self weight applied at horizontal\n",
    "F = 9.81*np.dot(M3, np.ones((3,1)))\n",
    "\n",
    "# static displacements (may be external info)\n",
    "u = np.linalg.solve(K3, F)\n",
    "\n",
    "# Elastic energy is equal to work done by external forces\n",
    "V = np.sum(F*u)/2\n",
    "\n",
    "# Reference kinetic energy (with displacements)\n",
    "Tref = float(np.dot(u.T, np.dot(M3, u))/2)\n",
    "\n",
    "# Eigenvalue estimation\n",
    "fk = np.sqrt(V/Tref)/2/np.pi\n",
    "\n",
    "print('Estimated from Rayleigh quotient: {0:4.2f}Hz'.format(fk))\n",
    "print('Previously calculated with scipy: {0:4.2f}Hz'.format(wk3[0]/2/np.pi))\n"
   ]
  },
  {
   "cell_type": "markdown",
   "metadata": {},
   "source": [
    "## 2. Modal Superposition <a name=\"section_2\"></a> \n"
   ]
  },
  {
   "cell_type": "code",
   "execution_count": null,
   "metadata": {},
   "outputs": [],
   "source": []
  },
  {
   "cell_type": "markdown",
   "metadata": {},
   "source": [
    "## 3. Elastic solution from modal analysis <a name=\"section_3\"></a> \n"
   ]
  },
  {
   "cell_type": "code",
   "execution_count": null,
   "metadata": {},
   "outputs": [],
   "source": []
  },
  {
   "cell_type": "markdown",
   "metadata": {},
   "source": [
    "## 4. Examples of dynamic response <a name=\"section_4\"></a> \n"
   ]
  },
  {
   "cell_type": "code",
   "execution_count": null,
   "metadata": {},
   "outputs": [],
   "source": []
  },
  {
   "cell_type": "markdown",
   "metadata": {},
   "source": [
    "## 5. Assignments <a name=\"section_5\"></a> \n",
    "\n"
   ]
  }
 ],
 "metadata": {
  "kernelspec": {
   "display_name": "Python 3",
   "language": "python",
   "name": "python3"
  },
  "language_info": {
   "codemirror_mode": {
    "name": "ipython",
    "version": 3
   },
   "file_extension": ".py",
   "mimetype": "text/x-python",
   "name": "python",
   "nbconvert_exporter": "python",
   "pygments_lexer": "ipython3",
   "version": "3.7.1"
  }
 },
 "nbformat": 4,
 "nbformat_minor": 2
}
