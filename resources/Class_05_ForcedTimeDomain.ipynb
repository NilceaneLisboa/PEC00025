{
 "cells": [
  {
   "cell_type": "markdown",
   "metadata": {},
   "source": [
    "Universidade Federal do Rio Grande do Sul (UFRGS)   \n",
    "Programa de Pós-Graduação em Engenharia Civil (PPGEC)   \n",
    "\n",
    "# PEC00025: Introduction to Vibration Theory\n",
    "\n",
    "\n",
    "### Class 05 - Forced vibration in time domain\n",
    "\n",
    "[1.   Impulse response](#section_1)  \n",
    "[2.   General response to forced vibration](#section_2)  \n",
    "[3.   Short transient loads](#section_3)  \n",
    "[4.   Assignment](#section_4)  \n",
    "\n",
    "---\n",
    "_Prof. Marcelo M. Rocha, Dr.techn._ [(ORCID)](https://orcid.org/0000-0001-5640-1020)  \n",
    "_Porto Alegre, RS, Brazil_ \n"
   ]
  },
  {
   "cell_type": "code",
   "execution_count": 1,
   "metadata": {},
   "outputs": [],
   "source": [
    "# Importing Python modules required for this notebook\n",
    "# (this cell must be executed with \"shift+enter\" before any other Python cell)\n",
    "\n",
    "import numpy as np\n",
    "import matplotlib.pyplot as plt\n",
    "from   MRPy import MRPy\n"
   ]
  },
  {
   "cell_type": "markdown",
   "metadata": {},
   "source": [
    "## 1. Impulse response <a name=\"section_1\"></a> \n",
    "\n",
    "So far we have the system response in damped free vibration. \n",
    "Now a very important solution will be derived for the most basic forced vibration:\n",
    "an impulse at time origin.\n",
    "The equilibrium equation after dividing by the system mass is:\n",
    "\n",
    "$$ \\ddot{u} + 2\\eta \\dot{u} + \\omega_{\\rm n}^2 u = \\delta(t)$$\n",
    "\n",
    "Applying Laplace transform over this equation and disregarding the\n",
    "initial conditions ($u_0 = 0$ and $v_0 = 0$) gives:\n",
    "\n",
    "$$ \\mathscr{L}\\left\\{ m \\ddot{u} + c \\dot{u} + k u \\right\\} = \n",
    "   \\mathscr{L}\\left\\{ \\delta(t) \\right\\} $$\n",
    "   \n",
    "$$  s^2 \\bar{u}(s) + 2 \\eta s \\bar{u}(s) + \\omega_{\\rm n}^2 \\bar{u}(s) = 1 $$\n",
    "\n",
    "what solving for $\\bar{u}(s)$ results in:\n",
    "\n",
    "$$ \\bar{u}(s) =  \n",
    "   \\left[\\frac{\\omega_{\\rm D}}{(s + \\eta)^2 + \\omega_{\\rm D}^2}\\right] \n",
    "   \\left(\\frac{1}{\\omega_{\\rm D}} \\right) $$\n",
    "\n",
    "Recognizing the sine function transform and using the translation theorem gives\n",
    "a special response that will be called _unit impulse response_, $g(t)$:\n",
    "\n",
    "$$ g(t) = \\frac{1}{\\omega_{\\rm D}} \\; e^{- \\zeta \\omega_{\\rm n} t} \n",
    "          \\sin \\omega_{\\rm D}t  $$\n"
   ]
  },
  {
   "cell_type": "markdown",
   "metadata": {},
   "source": [
    "## 2. General response to forced vibration <a name=\"section_6\"></a> \n",
    "\n"
   ]
  },
  {
   "cell_type": "markdown",
   "metadata": {},
   "source": [
    "## 3. Short transient loads <a name=\"section_7\"></a> \n",
    "\n",
    "\n",
    "<img src=\"images/dynamic_factors.jpg\" alt=\"Dynamic factors\" width=\"640px\"/>  <br>\n"
   ]
  },
  {
   "cell_type": "markdown",
   "metadata": {},
   "source": [
    "## 4. Assignments <a name=\"section_8\"></a> \n",
    "\n"
   ]
  },
  {
   "cell_type": "code",
   "execution_count": null,
   "metadata": {},
   "outputs": [],
   "source": []
  }
 ],
 "metadata": {
  "kernelspec": {
   "display_name": "Python [default]",
   "language": "python",
   "name": "python3"
  },
  "language_info": {
   "codemirror_mode": {
    "name": "ipython",
    "version": 3
   },
   "file_extension": ".py",
   "mimetype": "text/x-python",
   "name": "python",
   "nbconvert_exporter": "python",
   "pygments_lexer": "ipython3",
   "version": "3.5.5"
  }
 },
 "nbformat": 4,
 "nbformat_minor": 2
}
