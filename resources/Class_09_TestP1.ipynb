{
 "cells": [
  {
   "cell_type": "markdown",
   "metadata": {},
   "source": [
    "Universidade Federal do Rio Grande do Sul (UFRGS)   \n",
    "Programa de Pós-Graduação em Engenharia Civil (PPGEC)   \n",
    "\n",
    "# PEC00025: Introduction to Vibration Theory\n",
    "\n",
    "\n",
    "### Class 09 - Test P1: time and frequency domain analysis of sdof systems\n",
    "\n",
    "[P1:2019](#P1_2019) - [Question 1](#P1_2019_1), \n",
    "[Question 2](#P1_2019_2), \n",
    "[Question 3](#P1_2019_3), \n",
    "[Question 4](#P1_2019_4).\n",
    "\n",
    "---\n",
    "_Prof. Marcelo M. Rocha, Dr.techn._ [(ORCID)](https://orcid.org/0000-0001-5640-1020)  \n",
    "_Porto Alegre, RS, Brazil_ \n"
   ]
  },
  {
   "cell_type": "code",
   "execution_count": 28,
   "metadata": {},
   "outputs": [],
   "source": [
    "# Importing Python modules required for this notebook\n",
    "# (this cell must be executed with \"shift+enter\" before any other Python cell)\n",
    "\n",
    "import numpy as np\n",
    "import matplotlib.pyplot as plt\n",
    "\n",
    "from MRPy import MRPy\n"
   ]
  },
  {
   "cell_type": "markdown",
   "metadata": {},
   "source": [
    "## P1:2019 <a name=\"P1_2019\"></a> \n",
    "\n",
    "### Question 1 <a name=\"P1_2019_1\"></a> \n",
    "\n",
    "A tower is modelled as a single degree of freedom system with effective mass $m = 50000$kg. \n",
    "Figure 1 presents a sample record for its free vibration response.  \n",
    "\n",
    "1. Estimate the natural vibration frequency, $f_{\\rm n}$, the effective damping ratio, $\\zeta$, and the system stiffness, $k$, from the given record. \n",
    "\n",
    "2. What is the peak displacement response for an initial velocity, $v_0 = 2$m/s?  \n",
    "\n",
    "3. What are the peak velocity and the peak acceleration corresponding to this \n",
    "    peak displacement?\n",
    "\n",
    "<img src=\"testP1/P1_2019_fig1.png\" alt=\"Heaviside\" width=\"720px\"/>\n",
    "\n",
    "_Obs.: this first question provides the system parameters that shall be used in the following question._  \n",
    "\n",
    "**Answer:** System properties can be estimated from record graphic inspection:\n"
   ]
  },
  {
   "cell_type": "code",
   "execution_count": 29,
   "metadata": {},
   "outputs": [
    {
     "name": "stdout",
     "output_type": "stream",
     "text": [
      "Natural vibration frequency:  1.00 Hz  \n",
      "Ratio of critical damping:    2.56 %   \n",
      "System stiffness:             1974 kN/m\n"
     ]
    }
   ],
   "source": [
    "m  =  50000.                         # given system effective mass\n",
    "\n",
    "fn =  10/10                          # 10 cycles in 10 seconds\n",
    "zt =  np.log(1.5/0.3)/(2*np.pi*10)   # logarithmic decay in 10 cycles\n",
    "k  =  m*(2*np.pi*fn)**2              # stiffness from frequency equation\n",
    "\n",
    "print('Natural vibration frequency: {0:5.2f} Hz  '.format(fn))\n",
    "print('Ratio of critical damping:   {0:5.2f} %   '.format(100*zt))\n",
    "print('System stiffness:            {0:5.0f} kN/m'.format(k/1000))\n"
   ]
  },
  {
   "cell_type": "markdown",
   "metadata": {},
   "source": [
    "The peak values of kinematic parameters are calculated from the free vibration formula:"
   ]
  },
  {
   "cell_type": "code",
   "execution_count": 30,
   "metadata": {},
   "outputs": [
    {
     "name": "stdout",
     "output_type": "stream",
     "text": [
      "Peak displacement:   0.32 m    \n",
      "Peak velocity:       2.00 m/s  \n",
      "Peak acceleration:  12.56 m/s^2\n"
     ]
    }
   ],
   "source": [
    "u0 =  0.                      # given initial displacement\n",
    "v0 =  2.                      # given initial velocity \n",
    "\n",
    "wn =  2*np.pi*fn              # undamped natural frequency\n",
    "wD =  wn*np.sqrt(1 - zt*zt)   # damped natural frequency\n",
    "\n",
    "up =  np.sqrt(u0**2 + ((v0 + 2*zt*wn*u0)/wD)**2)\n",
    "vp =  wD*up\n",
    "ap = (wD**2)*up\n",
    "\n",
    "print('Peak displacement: {0:6.2f} m    '.format(up))\n",
    "print('Peak velocity:     {0:6.2f} m/s  '.format(vp))\n",
    "print('Peak acceleration: {0:6.2f} m/s^2'.format(ap))\n"
   ]
  },
  {
   "cell_type": "markdown",
   "metadata": {},
   "source": [
    "### Question 2 <a name=\"P1_2019_2\"></a> \n",
    "\n",
    "The system is now subjected to a triagular impulsive load, $F(t)$, as depicted in figure 2. \n",
    "\n",
    "1. Estimate the peak displacement considering \n",
    "   $F_0 = 50$kN, with $t_0 = 1$s and $t_{\\rm d} = 0.25$s. \n",
    "2. Estimate the time instant where this peak displacement occurs. \n",
    "\n",
    "<img src=\"testP1/P1_2019_fig2.png\" alt=\"Heaviside\" width=\"320px\"/>  \n",
    "\n",
    "**Answer:** The load has short duration ($t_{\\rm d} < T_{\\rm n}/4$) and can be converted \n",
    "into an equivalent initial velocity.\n"
   ]
  },
  {
   "cell_type": "code",
   "execution_count": 31,
   "metadata": {},
   "outputs": [
    {
     "name": "stdout",
     "output_type": "stream",
     "text": [
      "Equivalent initial velocity:  0.125 m/s\n",
      "Peak displacement:            0.020 m  \n"
     ]
    }
   ],
   "source": [
    "I0 =  50000*0.25/2   # impulse by short duration load\n",
    "v0 =  I0/m           # equivalent initial velocity \n",
    "u0 =  0.             # no initial displacement given\n",
    "\n",
    "up =  np.sqrt(u0**2 + ((v0 + 2*zt*wn*u0)/wD)**2)\n",
    "\n",
    "print('Equivalent initial velocity: {0:6.3f} m/s'.format(v0))\n",
    "print('Peak displacement:           {0:6.3f} m  '.format(up))\n"
   ]
  },
  {
   "cell_type": "markdown",
   "metadata": {},
   "source": [
    "The response to a short impulse is a sine function. Hence, the displacement peak will\n",
    "occur approximately $T_{\\rm n}/4 = 0.25$s after the impulse onset, what means at $t = 1.25$s.\n"
   ]
  },
  {
   "cell_type": "markdown",
   "metadata": {},
   "source": [
    "### Question 3 <a name=\"P1_2019_3\"></a> \n",
    "\n",
    "The system is then subjected to a transiente load provided as a time series, \n",
    "$F_i = F(t_i) = F(i\\delta t)$, as given in figure 3 below with load units \\[kN\\]. \n",
    "\n",
    "1. Estimate the peak displacement by regarding the system response as a superposition of four discrete impulses. \n",
    "2. Estimate the time instant where this peak displacement occurs.\n",
    "\n",
    "<img src=\"testP1/P1_2019_fig3.png\" alt=\"Heaviside\" width=\"320px\"/>  \n",
    "\n",
    "**Answer:** This loading function is to long to be considered as a single impulse.\n",
    "It will be considered a series of impulses, as in the Duhamel integral.\n",
    "The system response for an impulse at $t_i$ can be calculated as:\n",
    "\n",
    "$$ u_i(t) = \\frac{v_{0,i}}{\\omega_{\\rm D}} \\; \n",
    "            e^{-\\zeta \\omega{\\rm n} (t - t_i)} \\; \n",
    "            \\sin \\omega_{\\rm D} (t - t_i)$$\n",
    "\n",
    "with:\n",
    "\n",
    "$$ v_{0,i} = \\frac{I_i}{m}$$\n",
    "\n",
    "where the discrete impulse, $I_i$, may be approximated by:\n",
    "\n",
    "$$ I_i \\approx \\Delta t \\, F_i $$\n",
    "\n",
    "The total response is the sum of these response, where the starting times must be considered.\n"
   ]
  },
  {
   "cell_type": "code",
   "execution_count": 37,
   "metadata": {
    "scrolled": true
   },
   "outputs": [
    {
     "name": "stdout",
     "output_type": "stream",
     "text": [
      "-925.0\n"
     ]
    },
    {
     "data": {
      "image/png": "[encoded data removed]",
      "text/plain": [
       "<Figure size 576x288 with 1 Axes>"
      ]
     },
     "metadata": {
      "needs_background": "light"
     },
     "output_type": "display_data"
    }
   ],
   "source": [
    "ti = np.array([0.00, 0.25, 0.50, 0.75, 1.00, 1.25])        # starting times of each impulse\n",
    "Fi = np.array([1.00, 1.50, 1.20, 0.50, 0.00, 0.00])*1000   # force value at the starting time\n",
    "\n",
    "print(Ii)\n",
    "\n",
    "plt.figure(1, figsize=(8, 4), clear=True)\n",
    "plt.plot(ti, Fi/1000)\n",
    "\n",
    "plt.xlim(0, 1.5);   plt.xlabel('time (s)') \n",
    "plt.ylim(0, 2.0);   plt.ylabel('Force (N)') \n",
    "\n",
    "plt.grid(True) \n"
   ]
  },
  {
   "cell_type": "markdown",
   "metadata": {},
   "source": [
    "### Question 4 <a name=\"P1_2019_4\"></a> \n",
    "\n",
    "The system is finally subjected to an horizontal ground acceleration, $a_{\\rm G}(t)$, given as a power spectral density, $S_{\\rm a_G}(f)$, in units \\[${\\rm g^2/Hz}$\\], $g = 9.81{\\rm m/s^2}$, as shown in figure 4 below. \n",
    "\n",
    "1. Estimate the r.m.s. displacement through a frequency domain analysis. \n",
    "2. Estimate how much of this response is due to system resonance with seismic loading.\n",
    "\n",
    "<img src=\"testP1/P1_2019_fig4.png\" alt=\"Heaviside\" width=\"320px\"/>\n"
   ]
  },
  {
   "cell_type": "code",
   "execution_count": null,
   "metadata": {},
   "outputs": [],
   "source": []
  }
 ],
 "metadata": {
  "kernelspec": {
   "display_name": "Python 3",
   "language": "python",
   "name": "python3"
  },
  "language_info": {
   "codemirror_mode": {
    "name": "ipython",
    "version": 3
   },
   "file_extension": ".py",
   "mimetype": "text/x-python",
   "name": "python",
   "nbconvert_exporter": "python",
   "pygments_lexer": "ipython3",
   "version": "3.7.1"
  }
 },
 "nbformat": 4,
 "nbformat_minor": 2
}
