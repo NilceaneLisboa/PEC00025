{
 "cells": [
  {
   "cell_type": "markdown",
   "metadata": {},
   "source": [
    "Universidade Federal do Rio Grande do Sul (UFRGS)   \n",
    "Programa de Pós-Graduação em Engenharia Civil (PPGEC)   \n",
    "\n",
    "# PEC00025: Introduction to Vibration Theory\n",
    "\n",
    "\n",
    "### Class 10 - From single to many degrees of freedom\n",
    "\n",
    "[1.   The flexibility and the stiffness matrices](#section_1)  \n",
    "[2.   The lumped and the consistent mass matrices](#section_2)  \n",
    "[3.   Free vibration of undamped _mdof_ systems](#section_3)  \n",
    "[4.   The Rayleigh viscous damping matrix](#section_4)  \n",
    "[5.   Assignment](#section_5)  \n",
    "\n",
    "---\n",
    "_Prof. Marcelo M. Rocha, Dr.techn._ [(ORCID)](https://orcid.org/0000-0001-5640-1020)  \n",
    "_Porto Alegre, RS, Brazil_ \n"
   ]
  },
  {
   "cell_type": "code",
   "execution_count": 3,
   "metadata": {},
   "outputs": [],
   "source": [
    "# Importing Python modules required for this notebook\n",
    "# (this cell must be executed with \"shift+enter\" before any other Python cell)\n",
    "\n",
    "import numpy as np\n",
    "import matplotlib.pyplot as plt\n",
    "from   MRPy import MRPy\n"
   ]
  },
  {
   "cell_type": "markdown",
   "metadata": {},
   "source": [
    "## 1. The flexibility and the stiffness matrices <a name=\"section_1\"></a> \n",
    "\n",
    "In order to introduce the mathematical representation of a _mdof_ (multi degrees of freedom) \n",
    "system, we will make use of the [**Ftool** software for structural analysis](https://www.ftool.com.br/Ftool/), which is a free tool for analysing plane frames,\n",
    "adopted in many Engineering courses at brazilian Universities.\n",
    "This computer program was developed by _Prof. Luiz Fernando Martha_ from the Department of\n",
    "Civil Engineering at TecGraf/PUC, Rio de Janeiro.\n",
    "\n",
    "The program, however, is restricted to static analysis and cannot provide the dynamic response\n",
    "of the modelled plane frames. \n",
    "Nevertheless, it can be used to provide the stiffness coefficients that compose the so-called\n",
    "_stiffness matrix_, one of the properties required for a dynamic analysis. \n",
    "\n",
    "To illustrate the meaning of stiffness coefficients, we carry on an experiment over a simply\n",
    "supported steel truss with 12m span length, as shown below.\n",
    "\n",
    "<img src=\"images/truss12.png\" alt=\"Isostatic truss\" width=\"780px\"/>\n",
    "\n",
    "All truss members consists in C-shape steel profiles, as shown in the figure. \n",
    "The experiment, which can also be thought of being performed on a real structure, consists\n",
    "in loading the truss at some chosen points and and taking note of the corresponding\n",
    "displacements.\n",
    "The reference loading is applied node by node, as shown below for 5 nodes (2m apart \n",
    "each other). Considering the truss simmetry, only three nodes must be loaded:\n",
    "\n",
    "<img src=\"images/truss12deformed.png\" alt=\"Isostatic truss\" width=\"780px\"/>\n",
    "\n",
    "The resulting displacements can be arranged as columns in a $5 \\times 5$ matrix called\n",
    "_flexibility matrix_, which must be symmetric as stated by Maxwell-Betti's reciprocity theorem.\n",
    "\n",
    "\n"
   ]
  },
  {
   "cell_type": "code",
   "execution_count": 14,
   "metadata": {},
   "outputs": [
    {
     "data": {
      "image/png": "[encoded data removed]",
      "text/plain": [
       "<Figure size 576x288 with 2 Axes>"
      ]
     },
     "metadata": {},
     "output_type": "display_data"
    }
   ],
   "source": [
    "# Flexibility coefficients in m/N\n",
    "H = np.array([[0.0988, 0.1320, 0.1303, 0.1022, 0.0558], \n",
    "              [0.1320, 0.2264, 0.2325, 0.1856, 0.1022], \n",
    "              [0.1303, 0.2325, 0.2833, 0.2325, 0.1303], \n",
    "              [0.1022, 0.1856, 0.2325, 0.2264, 0.1320], \n",
    "              [0.0558, 0.1022, 0.1303, 0.1320, 0.0988]])*1e-6   \n",
    "\n",
    "# Stiffness coefficients in N/m\n",
    "K = np.linalg.inv(H) \n",
    "\n",
    "# Visualizaton\n",
    "plt.figure(1, figsize=(8,4))\n",
    "plt.subplot(1,2,1); plt.imshow(H); plt.title('Flexibility Matrix');\n",
    "plt.subplot(1,2,2); plt.imshow(K); plt.title('Stiffness Matrix');\n"
   ]
  },
  {
   "cell_type": "markdown",
   "metadata": {},
   "source": []
  },
  {
   "cell_type": "markdown",
   "metadata": {},
   "source": [
    "## 2. The lumped and the consistent mass matrices <a name=\"section_2\"></a> \n",
    "\n"
   ]
  },
  {
   "cell_type": "code",
   "execution_count": null,
   "metadata": {},
   "outputs": [],
   "source": []
  },
  {
   "cell_type": "markdown",
   "metadata": {},
   "source": []
  },
  {
   "cell_type": "markdown",
   "metadata": {},
   "source": [
    "## 3. Free vibration of undamped _mdof_ systems <a name=\"section_3\"></a> \n",
    "\n"
   ]
  },
  {
   "cell_type": "code",
   "execution_count": null,
   "metadata": {},
   "outputs": [],
   "source": []
  },
  {
   "cell_type": "markdown",
   "metadata": {},
   "source": []
  },
  {
   "cell_type": "markdown",
   "metadata": {},
   "source": [
    "## 4. The Rayleigh viscous damping matrix <a name=\"section_4\"></a> \n",
    "\n"
   ]
  },
  {
   "cell_type": "code",
   "execution_count": null,
   "metadata": {},
   "outputs": [],
   "source": []
  },
  {
   "cell_type": "markdown",
   "metadata": {},
   "source": []
  },
  {
   "cell_type": "markdown",
   "metadata": {},
   "source": [
    "## 5. Assignments <a name=\"section_5\"></a> \n",
    "\n"
   ]
  },
  {
   "cell_type": "code",
   "execution_count": null,
   "metadata": {},
   "outputs": [],
   "source": []
  }
 ],
 "metadata": {
  "kernelspec": {
   "display_name": "Python [default]",
   "language": "python",
   "name": "python3"
  },
  "language_info": {
   "codemirror_mode": {
    "name": "ipython",
    "version": 3
   },
   "file_extension": ".py",
   "mimetype": "text/x-python",
   "name": "python",
   "nbconvert_exporter": "python",
   "pygments_lexer": "ipython3",
   "version": "3.5.5"
  }
 },
 "nbformat": 4,
 "nbformat_minor": 2
}
