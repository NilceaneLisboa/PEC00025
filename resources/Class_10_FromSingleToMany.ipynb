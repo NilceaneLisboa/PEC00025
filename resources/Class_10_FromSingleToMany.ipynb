{
 "cells": [
  {
   "cell_type": "markdown",
   "metadata": {},
   "source": [
    "Universidade Federal do Rio Grande do Sul (UFRGS)   \n",
    "Programa de Pós-Graduação em Engenharia Civil (PPGEC)   \n",
    "\n",
    "# PEC00025: Introduction to Vibration Theory\n",
    "\n",
    "\n",
    "### Class 10 - From single to many degrees of freedom\n",
    "\n",
    "[1.   The flexibility and the stiffness matrices](#section_1)  \n",
    "[2.   Consistent and lumped mass matrices](#section_2)  \n",
    "[2.1. Stiffness matrix for a beam element](#section_21)  \n",
    "[2.2. Consistent mass matrix for a beam element](#section_22)  \n",
    "[2.3. Lumped mass matrix](#section_23)  \n",
    "[3.   Free vibration of undamped _mdof_ systems](#section_3)  \n",
    "[4.   The Rayleigh viscous damping matrix](#section_4)  \n",
    "[5.   Assignment](#section_5)  \n",
    "\n",
    "---\n",
    "_Prof. Marcelo M. Rocha, Dr.techn._ [(ORCID)](https://orcid.org/0000-0001-5640-1020)  \n",
    "_Porto Alegre, RS, Brazil_ \n"
   ]
  },
  {
   "cell_type": "code",
   "execution_count": 1,
   "metadata": {},
   "outputs": [],
   "source": [
    "# Importing Python modules required for this notebook\n",
    "# (this cell must be executed with \"shift+enter\" before any other Python cell)\n",
    "\n",
    "import numpy as np\n",
    "import matplotlib.pyplot as plt\n",
    "from   MRPy import MRPy\n"
   ]
  },
  {
   "cell_type": "markdown",
   "metadata": {},
   "source": [
    "## 1. The flexibility and the stiffness matrices <a name=\"section_1\"></a> \n",
    "\n",
    "In order to introduce the mathematical representation of a _mdof_ (multi degrees of freedom) \n",
    "system, we will make use of the [**Ftool** software for structural analysis](https://www.ftool.com.br/Ftool/), which is a free tool for analysing plane frames,\n",
    "adopted in many Engineering courses at brazilian Universities.\n",
    "This computer program was developed by _Prof. Luiz Fernando Martha_ from the Department of\n",
    "Civil Engineering at TecGraf/PUC, Rio de Janeiro.\n",
    "\n",
    "The program, however, is restricted to static analysis and cannot provide the dynamic response\n",
    "of the modelled plane frames. \n",
    "Nevertheless, it can be used to provide the stiffness coefficients that compose the so-called\n",
    "_stiffness matrix_, one of the properties required for a dynamic analysis. \n",
    "\n",
    "To illustrate the meaning of stiffness coefficients, we carry on an experiment over a simply\n",
    "supported steel truss with 12m span length, as shown below.\n",
    "\n",
    "<img src=\"images/truss12.png\" alt=\"Isostatic truss\" width=\"780px\"/>\n",
    "\n",
    "All truss members are made of a C-shape steel profile, as shown in the figure above. \n",
    "The experiment, which could also be thought of being performed on a real structure, \n",
    "consists in loading the truss at some chosen points and taking note of the \n",
    "corresponding displacements.\n",
    "The reference loading is applied node by node, as shown below for 5 nodes (2m apart \n",
    "each other). Considering the truss simmetry, only three nodes must be loaded:\n",
    "\n",
    "<img src=\"images/truss12deformed.png\" alt=\"Isostatic truss\" width=\"780px\"/>\n",
    "\n",
    "The resulting displacements, divided by the module of the corresponding applied load, \n",
    "can be arranged as columns in a matrix called _flexibility matrix_, $\\mathbf{H}$, \n",
    "which must be symmetric as stated by Maxwell-Betti's reciprocity theorem.\n",
    "\n",
    "Considering that the system is linear elastic, undergoing small displacements, the\n",
    "superposition principle may be applied.\n",
    "The total displacements of chosen nodes, is a linear combination of displacements\n",
    "caused by all applied forces, what in matrix notation can be expressed as:\n",
    "\n",
    "$$ \\vec{u} = \\mathbf{H} \\vec{F}$$\n",
    "\n",
    "where $\\vec{u}$ is a columns vector with the total nodal displacements and $\\vec{F}$ \n",
    "is a columns vector with the applied loads. \n",
    "\n",
    "In the truss example above, $\\mathbf{H}$ is a $5 \\times 5$ matrix with elements\n",
    "$H_{ij}$ obtained from Ftool, as given in the Python script below\n",
    "(be aware of always using pure S.I. units):\n"
   ]
  },
  {
   "cell_type": "code",
   "execution_count": 2,
   "metadata": {},
   "outputs": [],
   "source": [
    "# Flexibility coefficients in m/N\n",
    "H = np.array([[0.0988, 0.1320, 0.1303, 0.1022, 0.0558], \n",
    "              [0.1320, 0.2264, 0.2325, 0.1856, 0.1022], \n",
    "              [0.1303, 0.2325, 0.2833, 0.2325, 0.1303], \n",
    "              [0.1022, 0.1856, 0.2325, 0.2264, 0.1320], \n",
    "              [0.0558, 0.1022, 0.1303, 0.1320, 0.0988]])*1e-6   \n"
   ]
  },
  {
   "cell_type": "markdown",
   "metadata": {},
   "source": [
    "The flexibility coefficient $H_{ij}$ in matrix $\\mathbf{H}$ represents the _generalized \n",
    "displacement_ at degree of freedom $i$ caused by a unit _generalized force_ applied at \n",
    "degree of freedom $j$ (and the other way around).\n",
    "This is exactly the reasoning used to build the matrix in the truss example above.\n",
    "\n",
    "The terms _generalized displacements_ and _generalized forces_ will be better explained\n",
    "in a future class, but for now it suffices to say that they may refer also to rotations\n",
    "and moments, respectively.\n",
    "\n",
    "It must be said that the Ftool model behind the scenes has a total of \n",
    "$26 \\times 3 = 78$ degrees of freedom (two displacements and one rotation per structural\n",
    "node), but for the sake of didactic we are _simplifying_ the system by chosen some\n",
    "_master_ nodes that eventually presents the largest displacements and may describe \n",
    "satisfactorily the deformed shape of the structure as a whole. \n",
    "\n",
    "If now we mutiply the matrix equation above by $\\mathbf{H}^{-1} = \\mathbf{K}$ we get:\n",
    "\n",
    "$$ \\mathbf{K} \\vec{u} = \\vec{F} $$\n",
    "\n",
    "which can be recognized as an _equilibrium equation_ where the external and the \n",
    "internal forces are equated. The matrix $\\mathbf{K}$ is called _stiffness matrix_. \n",
    "The stiffness coefficient $K_{ij}$ in matrix $\\mathbf{K}$ represents the _generalized \n",
    "reaction_ at degree of freedom $i$ caused by a unit single _generalized displacement_ \n",
    "imposed at degree of freedom $j$ (and the other way around). \n",
    "\n",
    "For the truss example, we may calculate the stiffness matrix by inverting the \n",
    "flexibility matrix as:\n"
   ]
  },
  {
   "cell_type": "code",
   "execution_count": 3,
   "metadata": {},
   "outputs": [
    {
     "data": {
      "image/png": "[encoded data removed]",
      "text/plain": [
       "<Figure size 576x288 with 2 Axes>"
      ]
     },
     "metadata": {
      "needs_background": "light"
     },
     "output_type": "display_data"
    }
   ],
   "source": [
    "# Stiffness coefficients in N/m\n",
    "K = np.linalg.inv(H) \n",
    "\n",
    "# Visualizaton\n",
    "plt.figure(1, figsize=(8,4))\n",
    "plt.subplot(1,2,1); plt.imshow(H); plt.title('Flexibility Matrix');\n",
    "plt.subplot(1,2,2); plt.imshow(K); plt.title('Stiffness Matrix');\n"
   ]
  },
  {
   "cell_type": "markdown",
   "metadata": {},
   "source": [
    "Most computer programs for structural analysis use the _finite element method_, \n",
    "where the structure is subdivided into structural elements with well defined \n",
    "elementary stiffness matrices.\n",
    "The stiffness matrix representing the complete structure can be assembled by \n",
    "adding up all elementary stiffnesses in the corresponding degrees of freedom. \n",
    "This must be done with stiffness coefficients, for it is not possible to add up\n",
    "flexibilities. \n",
    "Consequently, to evaluate the displacements $\\vec{u}$ it becomes necessary \n",
    "to solve a linear system. This is called _static analysis_. \n",
    "\n",
    "For example, let us calculate the truss displacements for a uniform load of \n",
    "10kN applied to all nodes along the truss top, representing its self-weight:\n"
   ]
  },
  {
   "cell_type": "code",
   "execution_count": 4,
   "metadata": {},
   "outputs": [
    {
     "name": "stdout",
     "output_type": "stream",
     "text": [
      "Displacement at the truss center:  20.18mm\n"
     ]
    }
   ],
   "source": [
    "F = np.array([[20, 20, 20, 20, 20]]).T   # column vector, two truss nodes per master node is 20kN\n",
    "u = np.linalg.solve(K, 1000*F)           # solve by the most effective numpy algorithm\n",
    "\n",
    "print('Displacement at the truss center: {0:6.2f}mm'.format(1000*u[2,0]))\n"
   ]
  },
  {
   "cell_type": "markdown",
   "metadata": {},
   "source": [
    "This result is not too far than the result provided by Ftool:\n",
    "\n",
    "<img src=\"images/truss12loaded.png\" alt=\"Isostatic truss\" width=\"780px\"/>\n",
    "\n",
    "which is 20.048mm (error of 0.66%).\n",
    "Observe that we did not use the inversion ```numpy``` method, but a more efficient solver.\n",
    "Matrix inversion is computationally much more expensive than other solution algorithms\n",
    "like Gauss-Jordan elimination or Cholesky factorization.\n",
    "This becomes clear as one start dealing with very large systems.\n",
    "\n",
    "For linear static analysis the stiffness matrix is all one needs. As was said before,\n",
    "_structural analysis_ means using a mathematical model to represent the structure and\n",
    "evaluate its _response_ to some given _load case_.\n",
    "In static analysis load is regarded as static and so is the due response. \n",
    "However, in _dynamic analysis_ load is time varying and, besides the restitutive forces\n",
    "represented by the stiffness matrix, the structural system will also react with \n",
    "inertial and dissipative forces.\n"
   ]
  },
  {
   "cell_type": "markdown",
   "metadata": {},
   "source": [
    "## 2. Consistent and lumped mass matrices <a name=\"section_2\"></a> \n",
    "\n",
    "### 2.1. Stiffness matrix for a beam element  <a name=\"section_21\"></a> \n",
    "\n",
    "To understand how inertial forces are accounted for on structural systems one can\n",
    "start with a very simple linear elastic straight beam element.\n",
    "In the figure below, the transversal displacement, $u(x)$ may be approximated by\n",
    "a set of displacements, $u_i$, at some control degrees of freedom (usually at the\n",
    "element boundaries), interpolated by a set of functions $\\varphi_i(x)$.\n",
    "\n",
    "<img src=\"images/interpolation.png\" alt=\"Isostatic truss\" width=\"540px\"/>\n",
    "\n",
    "The interpolation is carried out as a simple linear combination:\n",
    "\n",
    "$$ u(x) = \\sum_{i = 1}^{4}{u_i \\; \\varphi_i(x)} = \\vec{u}^{\\intercal} \\; \\vec{\\varphi}(x)$$\n",
    "\n",
    "where the control displacements and the interpolation functions has been\n",
    "arranged as column vectors.\n",
    "\n",
    "Now we recall that the elastic potential energy stored on a bended Bernoulli's \n",
    "beam is given by:\n",
    "\n",
    "$$ \\Pi = \\frac{1}{2} \\int{EI \\left[u^{\\prime\\prime}(x) \\right]^2 \\; dx} $$\n",
    "\n",
    "where $EI$ is the beam bending stiffness. \n",
    "Replacing the interpolated version of the transversal displacement gives:\n",
    "\n",
    "$$ \\left[u^{\\prime\\prime}(x) \\right]^2 = \n",
    "   \\sum_{i = 1}^{4} {u_i \\; \\varphi_i^{\\prime\\prime}(x)} \\cdot \n",
    "   \\sum_{j = 1}^{4} {u_j \\; \\varphi_j^{\\prime\\prime}(x)} =\n",
    "   \\vec{u}^{\\intercal} \\left[ \\vec{\\varphi}^{\\prime\\prime}(x) \\; \n",
    "                              \\vec{\\varphi}^{\\prime\\prime\\intercal}(x) \\right] \\vec{u}$$ \n",
    "\n",
    "Recognizing that the control displacements are not function of $x$ leads to:\n",
    "\n",
    "$$  \\Pi = \\frac{1}{2} \\; \\vec{u}^{\\intercal} \\left\\{  \n",
    "          \\int{EI \\left[ \\vec{\\varphi}^{\\prime\\prime}(x) \\; \n",
    "          \\vec{\\varphi}^{\\prime\\prime\\intercal}(x) \\right] dx}\n",
    "          \\right\\} \\vec{u} = \n",
    "          \\frac{1}{2} \\; \\vec{u}^{\\intercal} \\mathbf{K} \\,\\vec{u}$$ \n",
    "\n",
    "The expression between curl braces is the beam element stiffness matrix, whose\n",
    "elements are the stiffness coefficients calculated as:\n",
    "\n",
    "$$ k_{ij} = \\int{EI \\varphi_i^{\\prime\\prime}(x) \\varphi_j^{\\prime\\prime}(x)  \\; dx} $$ \n",
    "\n",
    "The coefficients accuracy depends on the accuracy of the interpolation functions.\n",
    "In the particular case of Bernoulli's beam element, these functions can be the exact\n",
    "solution of the elastic deformation for the imposed displacements. \n",
    "In this case, after solving the integrals above, the element stiffness matrix results:\n",
    "\n",
    "$$ \\mathbf{K} = \\left[ \\begin{array}{cccc}\n",
    "              a  &  b  &  c  &  d \\\\\n",
    "              a  &  b  &  c  &  d \\\\\n",
    "              a  &  b  &  c  &  d \\\\\n",
    "              a  &  b  &  c  &  d\n",
    "             \\end{array} \\right] $$\n"
   ]
  },
  {
   "cell_type": "markdown",
   "metadata": {},
   "source": [
    "### 2.2. Consistent mass matrix for a beam element  <a name=\"section_22\"></a> \n",
    "\n",
    "After evaluating the beam element stiffness matrix, one can follow the same procedure for\n",
    "evaluating the corresponding mass matrix. \n",
    "If now the beam has time dependent transversal displacements, its total kinetic energy\n",
    "at a given time instant is:\n",
    "\n",
    "$$ T = \\frac{1}{2} \\int{\\mu \\, \\left[\\dot{u}(x) \\right]^2 \\; dx} $$\n",
    "\n",
    "where $\\mu$ is the beam mass per unit length. \n",
    "Replacing the interpolated version of the transversal displacement gives:\n",
    "\n",
    "$$ \\left[ \\dot{u}(x) \\right]^2 = \n",
    "   \\sum_{i = 1}^{4} {\\dot{u}_i \\; \\varphi_i(x)} \\cdot \n",
    "   \\sum_{j = 1}^{4} {\\dot{u}_j \\; \\varphi_j(x)} =\n",
    "   \\dot{\\vec{u}}^{\\intercal} \\left[ \\vec{\\varphi}(x) \\; \n",
    "   \\vec{\\varphi}^{\\intercal}(x) \\right] \\dot{\\vec{u}}$$ \n",
    "\n",
    "Recognizing that the control displacements are not function of $x$ leads to:\n",
    "\n",
    "$$  T = \\frac{1}{2} \\; \\dot{\\vec{u}}^{\\intercal} \\left\\{  \n",
    "          \\int{\\mu \\left[ \\vec{\\varphi}(x) \\; \n",
    "          \\vec{\\varphi}^{\\intercal}(x) \\right] dx}\n",
    "        \\right\\} \\dot{\\vec{u}} = \n",
    "        \\frac{1}{2} \\; \\dot{\\vec{u}}^{\\intercal} \\mathbf{M} \\, \\dot{\\vec{u}}$$ \n",
    "\n",
    "The expression between curl braces is the beam element _consistent_ mass matrix, whose\n",
    "elements are calculated as:\n",
    "\n",
    "$$ m_{ij} = \\int{\\mu \\; \\varphi_i(x) \\varphi_j(x)  \\; dx} $$ \n",
    "\n",
    "This mass matrix is called _consistent_ because _it is evaluated by using the\n",
    "same interpolation functions_ that have been used to evaluate the stiffness matrix.\n",
    "In the particular case of Bernoulli's beam element, after solving the integrals above, \n",
    "the element consistent mass matrix results:\n",
    "\n",
    "$$ \\mathbf{M} = \\left[ \\begin{array}{cccc}\n",
    "              a  &  b  &  c  &  d \\\\\n",
    "              a  &  b  &  c  &  d \\\\\n",
    "              a  &  b  &  c  &  d \\\\\n",
    "              a  &  b  &  c  &  d\n",
    "             \\end{array} \\right] $$\n",
    "\n"
   ]
  },
  {
   "cell_type": "markdown",
   "metadata": {},
   "source": [
    "### 2.3. Lumped mass matrix  <a name=\"section_23\"></a> \n",
    "\n",
    "\n"
   ]
  },
  {
   "cell_type": "code",
   "execution_count": 5,
   "metadata": {},
   "outputs": [],
   "source": [
    "# Lumped mass matrix in kg\n",
    "M = np.array([[2,  0,  0,  0,  0], \n",
    "              [0,  2,  0,  0,  0], \n",
    "              [0,  0,  2,  0,  0], \n",
    "              [0,  0,  0,  2,  0], \n",
    "              [0,  0,  0,  0,  2]])*1e3 \n"
   ]
  },
  {
   "cell_type": "markdown",
   "metadata": {},
   "source": []
  },
  {
   "cell_type": "markdown",
   "metadata": {},
   "source": [
    "## 3. Free vibration of undamped _mdof_ systems <a name=\"section_3\"></a> \n",
    "\n"
   ]
  },
  {
   "cell_type": "code",
   "execution_count": null,
   "metadata": {},
   "outputs": [],
   "source": []
  },
  {
   "cell_type": "markdown",
   "metadata": {},
   "source": []
  },
  {
   "cell_type": "markdown",
   "metadata": {},
   "source": [
    "## 4. The Rayleigh viscous damping matrix <a name=\"section_4\"></a> \n",
    "\n"
   ]
  },
  {
   "cell_type": "code",
   "execution_count": null,
   "metadata": {},
   "outputs": [],
   "source": []
  },
  {
   "cell_type": "markdown",
   "metadata": {},
   "source": []
  },
  {
   "cell_type": "markdown",
   "metadata": {},
   "source": [
    "## 5. Assignments <a name=\"section_5\"></a> \n",
    "\n"
   ]
  },
  {
   "cell_type": "code",
   "execution_count": null,
   "metadata": {},
   "outputs": [],
   "source": []
  }
 ],
 "metadata": {
  "kernelspec": {
   "display_name": "Python 3",
   "language": "python",
   "name": "python3"
  },
  "language_info": {
   "codemirror_mode": {
    "name": "ipython",
    "version": 3
   },
   "file_extension": ".py",
   "mimetype": "text/x-python",
   "name": "python",
   "nbconvert_exporter": "python",
   "pygments_lexer": "ipython3",
   "version": "3.7.1"
  }
 },
 "nbformat": 4,
 "nbformat_minor": 2
}
