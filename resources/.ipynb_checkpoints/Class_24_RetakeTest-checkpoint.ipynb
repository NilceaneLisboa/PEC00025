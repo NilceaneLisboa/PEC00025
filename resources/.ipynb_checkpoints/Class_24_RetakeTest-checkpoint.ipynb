{
 "cells": [
  {
   "cell_type": "code",
   "execution_count": 9,
   "metadata": {},
   "outputs": [],
   "source": [
    "import numpy as np\n",
    "import scipy.linalg as sc\n",
    "import matplotlib.pyplot as plt\n"
   ]
  },
  {
   "cell_type": "markdown",
   "metadata": {},
   "source": [
    "### Question 1"
   ]
  },
  {
   "cell_type": "code",
   "execution_count": 10,
   "metadata": {},
   "outputs": [
    {
     "name": "stdout",
     "output_type": "stream",
     "text": [
      "[[37.956 18.978]\n",
      " [18.978 12.652]] \n",
      "\n",
      " [[0.3714 0.0524]\n",
      " [0.0524 0.0095]]\n"
     ]
    }
   ],
   "source": [
    "L  = 1\n",
    "mu = 1\n",
    "EI = 3.163\n",
    "\n",
    "K  = np.array([[ 12,  6*L],[ 6*L, 4*L*L]])*EI/L/L/L\n",
    "M  = np.array([[156, 22*L],[22*L, 4*L*L]])*mu*L/420\n",
    "\n",
    "np.set_printoptions(precision=4)\n",
    "print(K, '\\n\\n', M)\n"
   ]
  },
  {
   "cell_type": "code",
   "execution_count": 11,
   "metadata": {},
   "outputs": [
    {
     "name": "stdout",
     "output_type": "stream",
     "text": [
      "[[ 41.       5.3333]\n",
      " [-56.      -7.    ]]\n"
     ]
    }
   ],
   "source": [
    "D  = np.dot(sc.inv(K), M)\n",
    "print(3.163*420*D)\n"
   ]
  },
  {
   "cell_type": "code",
   "execution_count": 12,
   "metadata": {},
   "outputs": [
    {
     "name": "stdout",
     "output_type": "stream",
     "text": [
      "[[ 0.5875 -0.1301]\n",
      " [-0.8092  0.9915]] \n",
      "\n",
      " [1.     9.8522]\n"
     ]
    }
   ],
   "source": [
    "# Uses scipy to solve the standard eigenvalue problem\n",
    "lb, Phi = sc.eig(D)\n",
    "w2      = 1/lb\n",
    "\n",
    "# Ensure ascending order of eigenvalues\n",
    "iw  = w2.argsort()\n",
    "w2  = w2[iw]\n",
    "Phi = Phi[:,iw]\n",
    "\n",
    "# Eigenvalues to vibration frequencies\n",
    "wk  = np.sqrt(np.real(w2)) \n",
    "fk  = wk/2/np.pi\n",
    "\n",
    "print(Phi, '\\n\\n', fk)\n"
   ]
  },
  {
   "cell_type": "code",
   "execution_count": 13,
   "metadata": {},
   "outputs": [
    {
     "data": {
      "image/png": "[encoded data removed]",
      "text/plain": [
       "<Figure size 576x432 with 2 Axes>"
      ]
     },
     "metadata": {
      "needs_background": "light"
     },
     "output_type": "display_data"
    }
   ],
   "source": [
    "phi = []\n",
    "phi.append(lambda xi:  1 - 3*xi*xi + 2*xi*xi*xi)\n",
    "phi.append(lambda xi:  L*(xi - 2*xi*xi + xi*xi*xi))\n",
    "\n",
    "nL  = 10000\n",
    "x   = np.linspace(0, L, nL)\n",
    "\n",
    "plt.figure(1, figsize=(8, 6), clear=True)\n",
    "\n",
    "for k in range(2):\n",
    "    pk = Phi[:,k]\n",
    "    px = np.zeros(x.shape)\n",
    "    \n",
    "    for km in range(2):\n",
    "        px += pk[km]*phi[km](x)   # superpose interpolations\n",
    "    \n",
    "    px /= np.max(np.abs(px))        # adjust scale for unity amplitude\n",
    "    plt.subplot(1,2,k+1)\n",
    "    plt.plot(px, x)\n",
    "   \n",
    "    plt.xlim(-1.5, 1.5);\n",
    "    plt.ylim( 0.0, L  );\n",
    "    plt.grid(True)\n",
    "    plt.gca().invert_yaxis()\n",
    "    plt.title('fk = {0:4.2f}Hz'.format(fk[k]));\n",
    "\n",
    "plt.xlabel('x');\n"
   ]
  },
  {
   "cell_type": "markdown",
   "metadata": {},
   "source": [
    "### Question 2"
   ]
  },
  {
   "cell_type": "code",
   "execution_count": 14,
   "metadata": {},
   "outputs": [
    {
     "name": "stdout",
     "output_type": "stream",
     "text": [
      "0.0846211199060026 0.0021359186758534714\n"
     ]
    }
   ],
   "source": [
    "M1 = np.dot(Phi[:,0].T,np.dot(M, Phi[:,0]))\n",
    "M2 = np.dot(Phi[:,1].T,np.dot(M, Phi[:,1]))\n",
    "\n",
    "K1 = np.dot(Phi[:,0].T,np.dot(K, Phi[:,0]))\n",
    "K2 = np.dot(Phi[:,1].T,np.dot(K, Phi[:,1]))\n",
    "\n",
    "print(M1, M2)\n"
   ]
  },
  {
   "cell_type": "code",
   "execution_count": 15,
   "metadata": {},
   "outputs": [
    {
     "name": "stdout",
     "output_type": "stream",
     "text": [
      "0.08461265858643909 0.0021357052989588094\n"
     ]
    }
   ],
   "source": [
    "phi1 = lambda x: Phi[0,0]*phi[0](x) + Phi[1,0]*phi[1](x)\n",
    "phi2 = lambda x: Phi[0,1]*phi[0](x) + Phi[1,1]*phi[1](x)\n",
    "\n",
    "m1 = mu*np.trapz(phi1(x)**2, dx=L/nL)\n",
    "m2 = mu*np.trapz(phi2(x)**2, dx=L/nL)\n",
    "\n",
    "print(m1, m2)\n"
   ]
  },
  {
   "cell_type": "code",
   "execution_count": 16,
   "metadata": {},
   "outputs": [
    {
     "name": "stdout",
     "output_type": "stream",
     "text": [
      "0.22627665607063804 0.017585586080834853\n"
     ]
    }
   ],
   "source": [
    "F1 = mu*np.trapz(phi1(x), dx=L/nL)\n",
    "F2 = mu*np.trapz(phi2(x), dx=L/nL)\n",
    "\n",
    "print(F1, F2)\n"
   ]
  },
  {
   "cell_type": "code",
   "execution_count": 17,
   "metadata": {},
   "outputs": [
    {
     "data": {
      "image/png": "[encoded data removed]",
      "text/plain": [
       "<Figure size 576x288 with 1 Axes>"
      ]
     },
     "metadata": {
      "needs_background": "light"
     },
     "output_type": "display_data"
    }
   ],
   "source": [
    "zt  =  0.02\n",
    "f   =  np.linspace(0, 5, 10000)\n",
    "df  =  5/10000\n",
    "\n",
    "Sa  =  lambda x: 3*(5 - x)*(5 + x)/250\n",
    "H2  =  lambda b: 1/((1 - b*b)**2 + (2*zt*b)**2)\n",
    "\n",
    "SF1 = (F1**2)*Sa(f)\n",
    "SF2 = (F2**2)*Sa(f)\n",
    "\n",
    "SU1 = (H2(f/fk[0])/K1**2)*SF1\n",
    "SU2 = (H2(f/fk[1])/K2**2)*SF2\n",
    "\n",
    "plt.figure(2, figsize=(8, 4), clear=True)\n",
    "plt.semilogy(f, SU1, 'b', f, SU2, 'r')\n",
    "plt.xlim(    0, 6   );\n",
    "plt.ylim( 1e-8, 1e01);\n",
    "plt.grid(True)\n",
    "plt.xlabel('f');\n",
    "plt.legend(('Mode 1', 'Mode 2'));\n"
   ]
  },
  {
   "cell_type": "code",
   "execution_count": 18,
   "metadata": {},
   "outputs": [
    {
     "name": "stdout",
     "output_type": "stream",
     "text": [
      "0.2278070750122846 0.0022777848573781755\n"
     ]
    }
   ],
   "source": [
    "su1 = np.sqrt(np.trapz(SU1, dx=df))\n",
    "su2 = np.sqrt(np.trapz(SU2, dx=df))\n",
    "\n",
    "print(su1, su2)\n"
   ]
  },
  {
   "cell_type": "code",
   "execution_count": 19,
   "metadata": {},
   "outputs": [
    {
     "name": "stdout",
     "output_type": "stream",
     "text": [
      "0.13383073860158734\n"
     ]
    }
   ],
   "source": [
    "su_top = np.sqrt((su1*phi1(0))**2 + (su2*phi2(0))**2)\n",
    "\n",
    "print(su_top)\n"
   ]
  },
  {
   "cell_type": "markdown",
   "metadata": {},
   "source": [
    "### Question 3"
   ]
  },
  {
   "cell_type": "code",
   "execution_count": 20,
   "metadata": {},
   "outputs": [
    {
     "name": "stdout",
     "output_type": "stream",
     "text": [
      "1.499975 154.04477484640134 1.6128783307597316\n"
     ]
    }
   ],
   "source": [
    "Madd  =  2.0\n",
    "\n",
    "phi   =  lambda x:                 np.sin(np.pi*x/L)\n",
    "phix  =  lambda x:   (np.pi/L)    *np.cos(np.pi*x/L)\n",
    "phixx =  lambda x: -((np.pi/L)**2)*np.sin(np.pi*x/L)\n",
    "\n",
    "x  =  np.linspace(0, 2*L, 2*nL)\n",
    "V  =  EI*np.trapz(phixx(x)**2, dx=L/nL)/2\n",
    "Tr =  mu*np.trapz(  phi(x)**2, dx=L/nL)/2 + Madd*(phi(L/2)**2)/2\n",
    "\n",
    "f1 =  np.sqrt(V/Tr)/2/np.pi\n",
    "\n",
    "print(Tr, V, f1)\n"
   ]
  },
  {
   "cell_type": "code",
   "execution_count": 21,
   "metadata": {},
   "outputs": [
    {
     "name": "stdout",
     "output_type": "stream",
     "text": [
      "2.99995 308.0895496928027 0.06368278320236172\n"
     ]
    }
   ],
   "source": [
    "m1  = 2*Tr\n",
    "k1  = m1*(2*np.pi*f1)**2\n",
    "\n",
    "p1  = 9.81*Madd*phi(L/2)\n",
    "u1  = p1/k1\n",
    "\n",
    "u   = u1*phi(L/2)\n",
    "\n",
    "print(m1, k1, u)\n"
   ]
  },
  {
   "cell_type": "markdown",
   "metadata": {},
   "source": [
    "Ftool result: 9.3cm.\n"
   ]
  },
  {
   "cell_type": "markdown",
   "metadata": {},
   "source": [
    "### Question 4"
   ]
  },
  {
   "cell_type": "code",
   "execution_count": 22,
   "metadata": {},
   "outputs": [
    {
     "name": "stdout",
     "output_type": "stream",
     "text": [
      "9.81349689161486\n"
     ]
    }
   ],
   "source": [
    "F0 = -14.72\n",
    "p1 =  F0*phi(3*L/2)        # downward load applied right span center\n",
    "\n",
    "A  =  2.0                  # amplification for Heaviside\n",
    "u1 =  A*p1/k1\n",
    "\n",
    "u  =  u1*phi(L/2)          # peak displacement at add mass position\n",
    "a  =  u*(2*np.pi*f1)**2    # upward acceleration\n",
    "\n",
    "print(a)\n"
   ]
  },
  {
   "cell_type": "markdown",
   "metadata": {},
   "source": [
    "Heaviside's load must be 14.72N to cause gravity acceleration, detaching mass upwards.\n"
   ]
  }
 ],
 "metadata": {
  "kernelspec": {
   "display_name": "Python 3",
   "language": "python",
   "name": "python3"
  },
  "language_info": {
   "codemirror_mode": {
    "name": "ipython",
    "version": 3
   },
   "file_extension": ".py",
   "mimetype": "text/x-python",
   "name": "python",
   "nbconvert_exporter": "python",
   "pygments_lexer": "ipython3",
   "version": "3.7.1"
  }
 },
 "nbformat": 4,
 "nbformat_minor": 2
}
