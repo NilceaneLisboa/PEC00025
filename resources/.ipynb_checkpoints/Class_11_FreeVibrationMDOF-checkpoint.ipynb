{
 "cells": [
  {
   "cell_type": "markdown",
   "metadata": {},
   "source": [
    "Universidade Federal do Rio Grande do Sul (UFRGS)   \n",
    "Programa de Pós-Graduação em Engenharia Civil (PPGEC)   \n",
    "\n",
    "# PEC00025: Introduction to Vibration Theory\n",
    "\n",
    "\n",
    "### Class 11 - Free vibration of multi degree of freedom systems\n",
    "\n",
    "[1.   Natural vibration modes and frequency](#section_1)  \n",
    "[2.   Examples of modal properties assessment](#section_2)  \n",
    "[2.1. Example 1: steel plane truss](#section_21)  \n",
    "[2.2. Example 2: beam element](#section_22)  \n",
    "[2.3. Example 3: experimental 3-dof model](#section_23)  \n",
    "[3.   Structural response to initial conditions](#section_3)  \n",
    "[4.   The Rayleigh viscous damping matrix](#section_4)  \n",
    "[5.   Assignment](#section_5)  \n",
    "\n",
    "---\n",
    "_Prof. Marcelo M. Rocha, Dr.techn._ [(ORCID)](https://orcid.org/0000-0001-5640-1020)  \n",
    "_Porto Alegre, RS, Brazil_ \n"
   ]
  },
  {
   "cell_type": "code",
   "execution_count": 2,
   "metadata": {},
   "outputs": [],
   "source": [
    "# Importing Python modules required for this notebook\n",
    "# (this cell must be executed with \"shift+enter\" before any other Python cell)\n",
    "\n",
    "import numpy as np\n",
    "import matplotlib.pyplot as plt\n",
    "import scipy.linalg as sc\n",
    "\n",
    "# Load matrices generated in Class 10 (that notebook must be run firstly!)\n",
    "\n",
    "\n"
   ]
  },
  {
   "cell_type": "markdown",
   "metadata": {},
   "source": [
    "## 1. Natural vibration modes and frequencies <a name=\"section_1\"></a> \n"
   ]
  },
  {
   "cell_type": "markdown",
   "metadata": {},
   "source": [
    "## 2. Examples of modal properties assessment <a name=\"section_2\"></a> \n",
    "\n",
    "### 2.1. Example 1: steel plane truss  <a name=\"section_21\"></a> \n",
    "\n"
   ]
  },
  {
   "cell_type": "code",
   "execution_count": 1,
   "metadata": {},
   "outputs": [
    {
     "ename": "NameError",
     "evalue": "name 'K1' is not defined",
     "output_type": "error",
     "traceback": [
      "\u001b[0;31m---------------------------------------------------------------------------\u001b[0m",
      "\u001b[0;31mNameError\u001b[0m                                 Traceback (most recent call last)",
      "\u001b[0;32m<ipython-input-1-b7f6e15e07ad>\u001b[0m in \u001b[0;36m<module>\u001b[0;34m\u001b[0m\n\u001b[1;32m      1\u001b[0m \u001b[0;31m# Uses scipy to solve the standard eigenvalue problem\u001b[0m\u001b[0;34m\u001b[0m\u001b[0;34m\u001b[0m\u001b[0;34m\u001b[0m\u001b[0m\n\u001b[1;32m      2\u001b[0m \u001b[0;32mimport\u001b[0m \u001b[0mscipy\u001b[0m\u001b[0;34m.\u001b[0m\u001b[0mlinalg\u001b[0m \u001b[0;32mas\u001b[0m \u001b[0msc\u001b[0m\u001b[0;34m\u001b[0m\u001b[0;34m\u001b[0m\u001b[0m\n\u001b[0;32m----> 3\u001b[0;31m \u001b[0mw21\u001b[0m\u001b[0;34m,\u001b[0m \u001b[0mPhi1\u001b[0m  \u001b[0;34m=\u001b[0m  \u001b[0msc\u001b[0m\u001b[0;34m.\u001b[0m\u001b[0meig\u001b[0m\u001b[0;34m(\u001b[0m\u001b[0mK1\u001b[0m\u001b[0;34m,\u001b[0m \u001b[0mM1\u001b[0m\u001b[0;34m)\u001b[0m\u001b[0;34m\u001b[0m\u001b[0;34m\u001b[0m\u001b[0m\n\u001b[0m\u001b[1;32m      4\u001b[0m \u001b[0;34m\u001b[0m\u001b[0m\n\u001b[1;32m      5\u001b[0m \u001b[0;31m# Ensure ascending order of eigenvalues\u001b[0m\u001b[0;34m\u001b[0m\u001b[0;34m\u001b[0m\u001b[0;34m\u001b[0m\u001b[0m\n",
      "\u001b[0;31mNameError\u001b[0m: name 'K1' is not defined"
     ]
    }
   ],
   "source": [
    "# Uses scipy to solve the standard eigenvalue problem\n",
    "w21, Phi1  =  sc.eig(K1, M1)\n",
    "\n",
    "# Ensure ascending order of eigenvalues\n",
    "iw   = w21.argsort()\n",
    "w21  = w21[iw]\n",
    "Phi1 = Phi[:,iw]\n",
    "\n",
    "# Eigenvalues to vibration frequencies\n",
    "wk1  = np.sqrt(np.real(w21)) \n",
    "fk1  = wk1/2/np.pi\n",
    "\n",
    "# Visualization of vibration modes\n",
    "plt.figure(1, figsize=(12,8))\n",
    "\n",
    "for k in range(5):\n",
    "    pk = Phi[k,:]\n",
    "    pm = np.max(np.abs(pk))  # only for plotting, unity normalization\n",
    "    \n",
    "    plt.subplot(1,5,k+1)\n",
    "    plt.plot(2*k+2, pk/pm)\n",
    "    \n",
    "    plt.axis([0, 12, -1.5, 1.5])\n",
    "    plt.title('Modo {0} :: fk = {1:4.2f}Hz'.format(k+1,fk[k]))\n",
    "    plt.grid(True)\n"
   ]
  },
  {
   "cell_type": "markdown",
   "metadata": {},
   "source": [
    "### 2.2. Example 2: beam element <a name=\"section_22\"></a> \n",
    "\n"
   ]
  },
  {
   "cell_type": "code",
   "execution_count": null,
   "metadata": {},
   "outputs": [],
   "source": []
  },
  {
   "cell_type": "markdown",
   "metadata": {},
   "source": [
    "### 2.3.Example 3: experimental 3-dof model  <a name=\"section_23\"></a> \n",
    "\n"
   ]
  },
  {
   "cell_type": "code",
   "execution_count": null,
   "metadata": {},
   "outputs": [],
   "source": []
  },
  {
   "cell_type": "markdown",
   "metadata": {},
   "source": [
    "\n",
    "\n",
    "<table>\n",
    " <tr>\n",
    "   <td><img src=\"images/model3dof_mode1.jpg\" alt=\"3dof mode 1\" width=\"240px\"/></td>\n",
    "   <td><img src=\"images/model3dof_mode2.jpg\" alt=\"3dof mode 2\" width=\"240px\"/></td>\n",
    "   <td><img src=\"images/model3dof_mode3.jpg\" alt=\"3dof mode 3\" width=\"240px\"/></td>\n",
    " </tr>\n",
    " <tr>\n",
    "   <td>$f_1 =  5.5$Hz</td>\n",
    "   <td>$f_2 = 15.4$Hz</td>\n",
    "   <td>$f_3 = 22.1$Hz</td>\n",
    " </tr>\n",
    "</table> \n",
    "\n",
    "\n"
   ]
  },
  {
   "cell_type": "markdown",
   "metadata": {},
   "source": [
    "## 3. Structural response to initial conditions <a name=\"section_3\"></a> \n",
    "\n"
   ]
  },
  {
   "cell_type": "code",
   "execution_count": null,
   "metadata": {},
   "outputs": [],
   "source": []
  },
  {
   "cell_type": "markdown",
   "metadata": {},
   "source": [
    "## 4. The Rayleigh viscous damping matrix <a name=\"section_4\"></a> \n",
    "\n"
   ]
  },
  {
   "cell_type": "code",
   "execution_count": null,
   "metadata": {},
   "outputs": [],
   "source": []
  },
  {
   "cell_type": "markdown",
   "metadata": {},
   "source": []
  },
  {
   "cell_type": "markdown",
   "metadata": {},
   "source": [
    "## 5. Assignments <a name=\"section_5\"></a> \n",
    "\n"
   ]
  },
  {
   "cell_type": "code",
   "execution_count": null,
   "metadata": {},
   "outputs": [],
   "source": []
  }
 ],
 "metadata": {
  "kernelspec": {
   "display_name": "Python 3",
   "language": "python",
   "name": "python3"
  },
  "language_info": {
   "codemirror_mode": {
    "name": "ipython",
    "version": 3
   },
   "file_extension": ".py",
   "mimetype": "text/x-python",
   "name": "python",
   "nbconvert_exporter": "python",
   "pygments_lexer": "ipython3",
   "version": "3.7.1"
  }
 },
 "nbformat": 4,
 "nbformat_minor": 2
}
