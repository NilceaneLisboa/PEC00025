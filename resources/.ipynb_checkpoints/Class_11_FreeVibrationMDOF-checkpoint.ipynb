{
 "cells": [
  {
   "cell_type": "markdown",
   "metadata": {},
   "source": [
    "Universidade Federal do Rio Grande do Sul (UFRGS)   \n",
    "Programa de Pós-Graduação em Engenharia Civil (PPGEC)   \n",
    "\n",
    "# PEC00025: Introduction to Vibration Theory\n",
    "\n",
    "\n",
    "### Class 11 - Free vibration of multi degree of freedom systems\n",
    "\n",
    "[1.   Natural vibration modes and frequency](#section_1)  \n",
    "[2.   Examples of modal properties assessment](#section_2)  \n",
    "[2.1. Example 1: steel plane truss](#section_21)  \n",
    "[2.2. Example 2: beam element](#section_22)  \n",
    "[2.3. Example 3: experimental 3-dof model](#section_23)  \n",
    "[3.   Structural response to initial conditions](#section_3)  \n",
    "[4.   The Rayleigh viscous damping matrix](#section_4)  \n",
    "[5.   Assignment](#section_5)  \n",
    "\n",
    "---\n",
    "_Prof. Marcelo M. Rocha, Dr.techn._ [(ORCID)](https://orcid.org/0000-0001-5640-1020)  \n",
    "_Porto Alegre, RS, Brazil_ \n"
   ]
  },
  {
   "cell_type": "code",
   "execution_count": 1,
   "metadata": {},
   "outputs": [],
   "source": [
    "# Importing Python modules required for this notebook\n",
    "# (this cell must be executed with \"shift+enter\" before any other Python cell)\n",
    "\n",
    "import numpy as np\n",
    "import matplotlib.pyplot as plt\n",
    "import scipy.linalg as sc\n",
    "\n",
    "# Load matrices generated in Class 10 (that notebook must be run firstly!)\n",
    "\n",
    "import pickle as pk\n",
    "\n",
    "with open('data/sample_KM.pk', 'rb') as target:\n",
    "    K1, M1, K2, M2, K3, M3 = pk.load(target)\n"
   ]
  },
  {
   "cell_type": "markdown",
   "metadata": {},
   "source": [
    "## 1. Natural vibration modes and frequencies <a name=\"section_1\"></a> \n"
   ]
  },
  {
   "cell_type": "markdown",
   "metadata": {},
   "source": [
    "## 2. Examples of modal properties assessment <a name=\"section_2\"></a> \n",
    "\n",
    "### 2.1. Example 1: steel plane truss  <a name=\"section_21\"></a> \n",
    "\n"
   ]
  },
  {
   "cell_type": "code",
   "execution_count": 18,
   "metadata": {},
   "outputs": [
    {
     "data": {
      "image/png": "[encoded data removed]",
      "text/plain": [
       "<Figure size 864x144 with 5 Axes>"
      ]
     },
     "metadata": {
      "needs_background": "light"
     },
     "output_type": "display_data"
    }
   ],
   "source": [
    "# Uses scipy to solve the standard eigenvalue problem\n",
    "w21, Phi1  =  sc.eig(K1, M1)\n",
    "\n",
    "# Ensure ascending order of eigenvalues\n",
    "iw   = w21.argsort()\n",
    "w21  = w21[iw]\n",
    "Phi1 = Phi1[:,iw]\n",
    "\n",
    "# Eigenvalues to vibration frequencies\n",
    "wk1  = np.sqrt(np.real(w21)) \n",
    "fk1  = wk1/2/np.pi\n",
    "\n",
    "# Visualization of vibration modes\n",
    "plt.figure(1, figsize=(12,2))\n",
    "x = np.arange(0,14,2)\n",
    "\n",
    "for k in range(5):\n",
    "    pk = np.zeros(7)\n",
    "    pk[1:-1] = Phi1[:,k]\n",
    "    pm = np.max(np.abs(pk))  # only for plotting, unity normalization\n",
    "    \n",
    "    plt.subplot(1,5,k+1)\n",
    "    plt.plot(x, pk/pm)\n",
    "    \n",
    "    plt.axis([0, 12, -1.5, 1.5])\n",
    "    plt.title('Modo {0}, fk = {1:3.1f}Hz'.format(k+1,fk1[k]))\n",
    "    plt.grid(True)\n"
   ]
  },
  {
   "cell_type": "markdown",
   "metadata": {},
   "source": [
    "### 2.2. Example 2: beam element <a name=\"section_22\"></a> \n",
    "\n"
   ]
  },
  {
   "cell_type": "code",
   "execution_count": null,
   "metadata": {},
   "outputs": [],
   "source": [
    "# Uses scipy to solve the standard eigenvalue problem\n",
    "w22, Phi2  =  sc.eig(K2, M2)\n",
    "\n",
    "# Ensure ascending order of eigenvalues\n",
    "iw   = w22.argsort()\n",
    "w22  = w22[iw]\n",
    "Phi2 = Phi2[:,iw]\n",
    "\n",
    "# Eigenvalues to vibration frequencies\n",
    "wk2  = np.sqrt(np.real(w22)) \n",
    "fk2  = wk2/2/np.pi\n",
    "\n",
    "# Visualization of vibration modes\n",
    "plt.figure(2, figsize=(12,2))\n",
    "x = np.linspace(0,6,200)\n",
    "\n",
    "for k in range(4):\n",
    "    pk = Phi2[:,k]\n",
    "    pm = np.max(np.abs(pk))  # only for plotting, unity normalization\n",
    "    \n",
    "    plt.subplot(1,4,k+1)\n",
    "    plt.plot(x, pk/pm)\n",
    "    \n",
    "    plt.axis([0, 12, -1.5, 1.5])\n",
    "    plt.title('Modo {0}, fk = {1:3.1f}Hz'.format(k+1,fk2[k]))\n",
    "    plt.grid(True)\n"
   ]
  },
  {
   "cell_type": "markdown",
   "metadata": {},
   "source": [
    "### 2.3.Example 3: experimental 3-dof model  <a name=\"section_23\"></a> \n",
    "\n"
   ]
  },
  {
   "cell_type": "code",
   "execution_count": null,
   "metadata": {},
   "outputs": [],
   "source": []
  },
  {
   "cell_type": "markdown",
   "metadata": {},
   "source": [
    "\n",
    "\n",
    "<table>\n",
    " <tr>\n",
    "   <td><img src=\"images/model3dof_mode1.jpg\" alt=\"3dof mode 1\" width=\"240px\"/></td>\n",
    "   <td><img src=\"images/model3dof_mode2.jpg\" alt=\"3dof mode 2\" width=\"240px\"/></td>\n",
    "   <td><img src=\"images/model3dof_mode3.jpg\" alt=\"3dof mode 3\" width=\"240px\"/></td>\n",
    " </tr>\n",
    " <tr>\n",
    "   <td>$f_1 =  5.5$Hz</td>\n",
    "   <td>$f_2 = 15.4$Hz</td>\n",
    "   <td>$f_3 = 22.1$Hz</td>\n",
    " </tr>\n",
    "</table> \n",
    "\n",
    "\n"
   ]
  },
  {
   "cell_type": "markdown",
   "metadata": {},
   "source": [
    "## 3. Structural response to initial conditions <a name=\"section_3\"></a> \n",
    "\n"
   ]
  },
  {
   "cell_type": "code",
   "execution_count": null,
   "metadata": {},
   "outputs": [],
   "source": []
  },
  {
   "cell_type": "markdown",
   "metadata": {},
   "source": [
    "## 4. The Rayleigh viscous damping matrix <a name=\"section_4\"></a> \n",
    "\n"
   ]
  },
  {
   "cell_type": "code",
   "execution_count": null,
   "metadata": {},
   "outputs": [],
   "source": []
  },
  {
   "cell_type": "markdown",
   "metadata": {},
   "source": []
  },
  {
   "cell_type": "markdown",
   "metadata": {},
   "source": [
    "## 5. Assignments <a name=\"section_5\"></a> \n",
    "\n"
   ]
  },
  {
   "cell_type": "code",
   "execution_count": null,
   "metadata": {},
   "outputs": [],
   "source": []
  }
 ],
 "metadata": {
  "kernelspec": {
   "display_name": "Python 3",
   "language": "python",
   "name": "python3"
  },
  "language_info": {
   "codemirror_mode": {
    "name": "ipython",
    "version": 3
   },
   "file_extension": ".py",
   "mimetype": "text/x-python",
   "name": "python",
   "nbconvert_exporter": "python",
   "pygments_lexer": "ipython3",
   "version": "3.7.1"
  }
 },
 "nbformat": 4,
 "nbformat_minor": 2
}
