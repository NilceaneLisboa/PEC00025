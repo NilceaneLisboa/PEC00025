{
 "cells": [
  {
   "cell_type": "markdown",
   "metadata": {},
   "source": [
    "Universidade Federal do Rio Grande do Sul (UFRGS)   \n",
    "Programa de Pós-Graduação em Engenharia Civil (PPGEC)   \n",
    "\n",
    "# PEC00025: Introduction to Vibration Theory\n",
    "\n",
    "\n",
    "### Class 18 - Lagrange's equation\n",
    "\n",
    "[1.   The Lagrange's equation](#section_1)  \n",
    "[2.   Example: generic s.d.o.f. system](#section_2)  \n",
    "[3.   Example: generic m.d.o.f. system](#section_3)  \n",
    "[4.   Example: simply supported beam](#section_4)  \n",
    "[5.   Example: nonlinear simple pendulum](#section_5)  \n",
    "[6.   Example: tower with flexible foundation](#section_6)  \n",
    "[7.   Example: nonlinear double pendulum](#section_7)  \n",
    "[8.   Assignments](#section_8)  \n",
    "\n",
    "---\n",
    "_Prof. Marcelo M. Rocha, Dr.techn._ [(ORCID)](https://orcid.org/0000-0001-5640-1020)  \n",
    "_Porto Alegre, RS, Brazil_ \n"
   ]
  },
  {
   "cell_type": "code",
   "execution_count": 41,
   "metadata": {},
   "outputs": [],
   "source": [
    "# Importing Python modules required for this notebook\n",
    "# (this cell must be executed with \"shift+enter\" before any other Python cell)\n",
    "\n",
    "import numpy as np\n",
    "import matplotlib.pyplot as plt\n",
    "from   scipy.integrate import odeint\n"
   ]
  },
  {
   "cell_type": "markdown",
   "metadata": {},
   "source": [
    "## 1. The Lagrange's equation <a name=\"section_1\"></a> \n"
   ]
  },
  {
   "cell_type": "code",
   "execution_count": null,
   "metadata": {},
   "outputs": [],
   "source": []
  },
  {
   "cell_type": "markdown",
   "metadata": {},
   "source": [
    "## 2. Example: generic s.d.o.f. system <a name=\"section_2\"></a> \n"
   ]
  },
  {
   "cell_type": "code",
   "execution_count": null,
   "metadata": {},
   "outputs": [],
   "source": []
  },
  {
   "cell_type": "markdown",
   "metadata": {},
   "source": [
    "## 3. Example: generic m.d.o.f. system <a name=\"section_3\"></a> \n"
   ]
  },
  {
   "cell_type": "code",
   "execution_count": null,
   "metadata": {},
   "outputs": [],
   "source": []
  },
  {
   "cell_type": "markdown",
   "metadata": {},
   "source": [
    "## 4. Example: simply supported beam <a name=\"section_4\"></a> \n",
    "\n",
    "Now we shall use the Lagrange's equation for solving a simply supported beam, considering\n",
    "three different models:\n",
    "\n",
    "1. Distributed mass and discrete flexibility,\n",
    "2. Distributed flexibility and discrete mass, and\n",
    "3. Distributed mass and distributed flexibility.\n",
    "\n",
    "<img src=\"images/simply_supported_lagrange.png\" alt=\"Simply supported beam\" width=\"360px\"/>\n",
    "\n",
    "The three beam models are useful for illustrating the use of Lagrange's equation with\n",
    "different energy evaluation approaches. At the end, the three solutions may be\n",
    "compared for evaluating the best estimates of discrete parameters $k_\\theta$ and $M$\n",
    "such that the three models give the same beam natural vibration frequency.\n",
    "\n",
    "\n",
    "### 4.1. Distributed mass and discrete flexibility <a name=\"section_41\"></a> \n",
    "\n",
    "For the sake of compatibility with the other two models, we define the generalized coordinate\n",
    "$u$ as being the vertical displacement at beam center. The potential elastic energy\n",
    "depends on the relative rotation, $\\theta$, between the two segments:\n",
    "\n",
    "$$ \\theta = \\arcsin \\left( \\frac{2u}{L}\\right) \\approx \\frac{2u}{L}$$\n",
    "\n",
    "where the small displacements assumption has been used. Hence:\n",
    "\n",
    "$$ V = \\frac{1}{2} k_\\theta \\theta^2 \\approx \n",
    "                 \\frac{2 k_\\theta}{L^2} u^2$$\n",
    "\n",
    "The kinetic energy is obtained by integrating the velocities along the two bars:\n",
    "\n",
    "$$ T = 2 \\int_0^{L/2} {\\left( \\dot{r}_x^2 + \\dot{r}_y^2 \\right) \\; \\mu d\\xi} $$\n",
    "\n",
    "with:\n",
    "\n",
    "\\begin{align*}\n",
    " r_x &= \\xi \\cos\\left( \\frac{2u}{L}\\right) \\\\\n",
    " r_y &= \\xi \\sin\\left( \\frac{2u}{L}\\right)\n",
    "\\end{align*}\n",
    "\n",
    "The time derivatives are:\n",
    "\n",
    "\\begin{align*}\n",
    "\\dot{r}_x &= \\frac{dr_x}{du} \\; \\frac{du}{dt} =\n",
    "            -\\frac{2\\xi}{L} \\sin\\left( \\frac{2u}{L}\\right) \\, \\dot{u}\n",
    "    \\approx -\\frac{4 u \\dot{u}}{L^2} \\xi \\approx 0 \\\\\n",
    "\\dot{r}_y &= \\frac{dr_y}{du} \\; \\frac{du}{dt} = \n",
    "             \\frac{2\\xi}{L} \\cos\\left( \\frac{2u}{L}\\right) \\, \\dot{u}\n",
    "    \\approx  \\frac{2\\dot{u}}{L} \\xi \\\\\n",
    "\\end{align*}\n",
    "\n",
    "where the small displacements assumption is made and the velocity in direction $x$ is\n",
    "neglected. Replacing these results in the kinetic energy yields:\n",
    "\n",
    "$$ T \\approx \\frac{8\\dot{u}^2}{L^2} \\int_0^{L/2} {\\xi^2 \\; \\mu d\\xi}\n",
    "           = \\frac{\\mu L}{3} \\, \\dot{u}^2 $$\n",
    "\n",
    "Now the two terms of Lagrange's equation can be calculated. Firstly the kinectic energy:\n",
    "\n",
    "$$ \\frac{\\partial T}{\\partial \\dot{u}} = \\frac{2 \\mu L}{3} \\, \\dot{u} $$\n",
    "\n",
    "and then for the potential elastic energy:\n",
    "\n",
    "$$ \\frac{\\partial V}{\\partial u} = \\frac{4 k_\\theta }{L^2} \\, u $$\n",
    "\n",
    "Applying Lagrange's equation gives finally the equilibrium equation:\n",
    "\n",
    "$$ \\frac{2 \\mu L}{3} \\, \\ddot{u} +  \\frac{4 k_\\theta }{L^2} \\, u = 0 $$\n",
    "\n",
    "which means that the natural vibration frequency is:\n",
    "\n",
    "$$ \\omega_{\\rm n} = \\sqrt{\\frac{6 k_\\theta}{\\mu L^3}} $$\n"
   ]
  },
  {
   "cell_type": "markdown",
   "metadata": {},
   "source": [
    "\n",
    "### 4.2. Distributed flexibility and discrete mass <a name=\"section_42\"></a> \n",
    "\n",
    "In this case we must assume a deflected shape. A good option is the elastic line resulting\n",
    "from a point load at beam center:\n",
    "\n",
    "$$ w(\\xi) = \\frac{P L^3}{12 EI} \\left( \\frac{3}{4} \\xi - \\xi^3 \\right), \n",
    "            \\hspace{1cm} \\xi \\leq \\frac{1}{2} $$\n",
    "            \n",
    "This function is valid up to beam center and its symmetry must be accounted for. \n",
    "The assumed shape must be rescaled, such that the displacement at beam center is our generalized\n",
    "coordinate, $u$. The maximumum central deflection from the function above is:\n",
    "\n",
    "$$ w_{\\rm max} = \\frac{P L^3}{48 EI} $$\n",
    "\n",
    "Re-scaling gives:\n",
    "\n",
    "$$ w(\\xi) = 4 u \\left( \\frac{3}{4} \\xi - \\xi^3 \\right), \n",
    "            \\hspace{1cm} \\xi \\leq \\frac{1}{2} $$\n",
    "\n",
    "The rotation and the curvature functions are, respectively:\n",
    "\n",
    "\\begin{align*}\n",
    " w^{\\prime}(\\xi)       &=  4 u \\left( \\frac{3}{4} - 3\\xi^2 \\right) \\\\\n",
    " w^{\\prime\\prime}(\\xi) &= -24 u \\xi \n",
    "\\end{align*}\n",
    "\n",
    "The potential elastic energy is then given by:\n",
    "\n",
    "$$ V = 2 \\cdot \\frac{1}{2} \\int_{0}^{1/2} {EI \\left[ w^{\\prime\\prime}(\\xi) \\right]^2 \\, L d\\xi}\n",
    "     = 24 EI L \\, u^2 $$\n",
    "\n",
    "On the other hand, the kinetic energy evaluation is straighforward:\n",
    "\n",
    "$$ T = \\frac{1}{2} M\\dot{u}^2 $$\n",
    "\n",
    "Now we calculate the two terms of Lagrange's equation, starting with the kinectic energy:\n",
    "\n",
    "$$ \\frac{\\partial T}{\\partial \\dot{u}} = M \\, \\dot{u} $$\n",
    "\n",
    "and then for the potential elastic energy:\n",
    "\n",
    "$$ \\frac{\\partial V}{\\partial u} = 48 EI L \\, u $$\n",
    "\n",
    "Applying Lagrange's equation gives finally the equilibrium equation:\n",
    "\n",
    "$$ M \\, \\ddot{u} +  48 EI L \\, u = 0 $$\n",
    "\n",
    "which means that the natural vibration frequency is:\n",
    "\n",
    "$$ \\omega_{\\rm n} = \\sqrt{\\frac{48 EI L}{M}} $$\n",
    "\n"
   ]
  },
  {
   "cell_type": "markdown",
   "metadata": {},
   "source": [
    "\n",
    "### 4.3. Distributed mass and distributed flexibility <a name=\"section_42\"></a> \n",
    "\n",
    "Here we assume a half-sine as the deflected shape (that we _know_ to be the right solution):\n",
    "\n",
    "$$ w(\\xi) = u \\sin\\left( \\pi \\xi \\right) $$\n",
    "            \n",
    "The rotation and the curvature functions are, respectively:\n",
    "\n",
    "\\begin{align*}\n",
    " w^{\\prime}(\\xi)       &=  \\pi   u \\cos \\left(\\pi \\xi \\right) \\\\\n",
    " w^{\\prime\\prime}(\\xi) &= -\\pi^2 u \\sin \\left(\\pi \\xi \\right)\n",
    "\\end{align*}\n",
    "\n",
    "The potential elastic energy is then given by:\n",
    "\n",
    "$$ V = \\frac{1}{2} \\int_{0}^{1} {EI \\left[ w^{\\prime\\prime}(\\xi) \\right]^2 \\; L d\\xi}\n",
    "     =  $$\n",
    "\n",
    "\n"
   ]
  },
  {
   "cell_type": "markdown",
   "metadata": {},
   "source": [
    "## 5. Example: simple pendulum <a name=\"section_5\"></a> \n",
    "\n",
    "\n",
    "<img src=\"images/simple_pendulum.png\" alt=\"Simple pendulum\" width=\"240px\"/>\n",
    "\n"
   ]
  },
  {
   "cell_type": "code",
   "execution_count": null,
   "metadata": {},
   "outputs": [],
   "source": []
  },
  {
   "cell_type": "markdown",
   "metadata": {},
   "source": [
    "## 6. Example: tower with flexible foundation <a name=\"section_6\"></a> \n"
   ]
  },
  {
   "cell_type": "code",
   "execution_count": null,
   "metadata": {},
   "outputs": [],
   "source": []
  },
  {
   "cell_type": "markdown",
   "metadata": {},
   "source": [
    "## 7. Example: nonlinear double pendulum <a name=\"section_7\"></a> \n",
    "\n",
    "\n",
    "<img src=\"images/double_pendulum.png\" alt=\"Double pendulum\" width=\"240px\"/>\n",
    "\n",
    "\n",
    "Define $d\\vec{y}/dt$ function:\n"
   ]
  },
  {
   "cell_type": "code",
   "execution_count": 42,
   "metadata": {},
   "outputs": [],
   "source": [
    "def double_pendulum(y, t, m1, h1, m2, h2, g):\n",
    "    \n",
    "    th1, w1, th2, w2 = y\n",
    "    \n",
    "    mt  = m1  + m2\n",
    "    dth = th1 - th2\n",
    "    \n",
    "    cd  = np.cos(dth)\n",
    "    sd  = np.sin(dth)\n",
    "    s1  = np.sin(th1)\n",
    "    s2  = np.sin(th2)\n",
    "    \n",
    "    A   = np.array([[mt*h1,    m2*h2*cd], \n",
    "                    [m2*h1*cd, m2*h2  ]])\n",
    "\n",
    "    B   = np.array([-m2*h2*w2*w2*sd - g*mt*s1,\n",
    "                     m2*h1*w1*w1*sd - g*m2*s2])\n",
    "    \n",
    "    a   = np.linalg.solve(A, B)\n",
    "    \n",
    "    return [w1, a[0], w2, a[1]]\n"
   ]
  },
  {
   "cell_type": "markdown",
   "metadata": {},
   "source": [
    "Call ```scipy``` for differential equation solution:\n"
   ]
  },
  {
   "cell_type": "code",
   "execution_count": 49,
   "metadata": {},
   "outputs": [
    {
     "data": {
      "image/png": "[encoded data removed]",
      "text/plain": [
       "<Figure size 864x396 with 2 Axes>"
      ]
     },
     "metadata": {
      "needs_background": "light"
     },
     "output_type": "display_data"
    }
   ],
   "source": [
    "t  =  np.linspace(0, 4, 16384)\n",
    "\n",
    "m1 =  1.0;   h1 = 1.0\n",
    "m2 =  1.5;   h2 = 0.5\n",
    "\n",
    "g  =  9.81\n",
    "\n",
    "Y0 = [np.pi+0.001, 0., np.pi/2, 0.]\n",
    "\n",
    "plt.figure(1, figsize=(12, 5.5), clear=True)\n",
    "\n",
    "for k in range(2):\n",
    "    \n",
    "    Y  =  odeint(double_pendulum, Y0, t, args=(m1, h1, m2, h2, g))\n",
    "\n",
    "    x1 =  h1*np.sin(Y[:,0])\n",
    "    y1 = -h1*np.cos(Y[:,0])\n",
    "\n",
    "    x2 =  x1 + h2*np.sin(Y[:,1])\n",
    "    y2 =  y1 - h2*np.cos(Y[:,1])\n",
    "\n",
    "    plt.subplot(1,2,k+1)\n",
    "    plt.plot(x1,y1, 'r:')\n",
    "    plt.plot(x2,y2, 'b', linewidth=0.5)\n",
    "\n",
    "    plt.xlim(-2, 2);   plt.xlabel('X2 (m)') \n",
    "    plt.ylim(-2, 2);   plt.ylabel('Y2 (m)') \n",
    "    plt.title('Simulation {0}'.format(k+1))\n",
    "\n",
    "    plt.grid(True) \n",
    "    \n",
    "    Y0 = [np.pi+0.002, 0, np.pi/2, 0.]   # repeat with butterfly wing flap\n"
   ]
  },
  {
   "cell_type": "markdown",
   "metadata": {},
   "source": [
    "## 8. Assignments <a name=\"section_8\"></a> \n"
   ]
  },
  {
   "cell_type": "code",
   "execution_count": null,
   "metadata": {},
   "outputs": [],
   "source": []
  }
 ],
 "metadata": {
  "kernelspec": {
   "display_name": "Python [default]",
   "language": "python",
   "name": "python3"
  },
  "language_info": {
   "codemirror_mode": {
    "name": "ipython",
    "version": 3
   },
   "file_extension": ".py",
   "mimetype": "text/x-python",
   "name": "python",
   "nbconvert_exporter": "python",
   "pygments_lexer": "ipython3",
   "version": "3.5.5"
  }
 },
 "nbformat": 4,
 "nbformat_minor": 2
}
