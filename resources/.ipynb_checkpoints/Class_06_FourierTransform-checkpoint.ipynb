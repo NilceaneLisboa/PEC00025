{
 "cells": [
  {
   "cell_type": "markdown",
   "metadata": {},
   "source": [
    "Universidade Federal do Rio Grande do Sul (UFRGS)   \n",
    "Programa de Pós-Graduação em Engenharia Civil (PPGEC)   \n",
    "\n",
    "# PEC00025: Introduction to Vibration Theory\n",
    "\n",
    "\n",
    "### Class 06 - The Fourier Transform\n",
    "\n",
    "[1.   Introduction](#section_1)  \n",
    "[2.   Formal definition](#section_2)  \n",
    "[3.   Fourier transform of some basic functions](#section_3)  \n",
    "[3.1. Constant function](#section_31)  \n",
    "[3.2. Sine and cosine functions](#section_32)  \n",
    "[4.   Transformation of derivatives](#section_4)  \n",
    "[5.   Convolution and translation theorems](#section_5)  \n",
    "[6.   The Fast Fourier Transform (FFT)](#section_6)  \n",
    "[7.   Fourier series coefficients from FFT](#section_7)   \n",
    "[8.   Assignment](#section8)\n",
    "\n",
    "---\n",
    "_Prof. Marcelo M. Rocha, Dr.techn._ [(ORCID)](https://orcid.org/0000-0001-5640-1020)  \n",
    "_Porto Alegre, RS, Brazil_ "
   ]
  },
  {
   "cell_type": "code",
   "execution_count": 1,
   "metadata": {},
   "outputs": [],
   "source": [
    "# Importing Python modules required for this notebook\n",
    "# (this cell must be executed with \"shift+enter\" before any other Python cell)\n",
    "\n",
    "import numpy as np\n",
    "import pandas as pd\n",
    "import matplotlib.pyplot as plt\n",
    "\n",
    "from MRPy import MRPy\n"
   ]
  },
  {
   "cell_type": "markdown",
   "metadata": {},
   "source": [
    "## 1. Introduction <a name=\"section_1\"></a> \n",
    "\n",
    "To understand the _Fourier transform_ we can firstly recall the _Fourier series_ concept, \n",
    "according which any _periodic function_ with period $T$ can be expressed as a sum of \n",
    "sines and cosines:\n",
    "\n",
    "$$ f(t) =   a_0 + \\sum_{k = 1}^\\infty \n",
    "           {a_k \\, \\cos \\omega_k t + b_k \\, \\sin \\omega_k t}$$\n",
    "\n",
    "with $f(t) = f(t + T)$ and $\\omega_k = 2k\\pi/T$, where:\n",
    "\n",
    "\\begin{align*}\n",
    " a_0 &= \\frac{1}{T} \\int_{-T/2}^{T/2} f(t) \\; dt \\\\ \\\\\n",
    " a_k &= \\frac{2}{T} \\int_{-T/2}^{T/2} \\cos \\omega_k t \\; f(t) \\; dt \\\\ \\\\\n",
    " b_k &= \\frac{2}{T} \\int_{-T/2}^{T/2} \\sin \\omega_k t \\; f(t) \\; dt\n",
    "\\end{align*}\n",
    "\n",
    "with $k = 1, 2, \\dots\\ \\infty$.\n",
    "Recalling that sine and cosine functions have zero mean implies that the \n",
    "series coefficient $a_0$ represents the mean value of function $f(t)$.\n",
    "For example, it can be shown that the Fourier series expansion of a \n",
    "_zero mean square wave_ is:\n",
    "\n",
    "$$ f(t) =   \\frac{4}{\\pi} \\; \\sum_{k = 0}^\\infty \n",
    "            \\frac{1}{k}   \\;  \\sin \\omega_{2k+1} t $$\n",
    "\n",
    "which can be verified with some few Python lines as follows.\n",
    "Firstly we define a zero mean square wave with periodicity $T = 1$s:\n"
   ]
  },
  {
   "cell_type": "code",
   "execution_count": 2,
   "metadata": {},
   "outputs": [],
   "source": [
    "T  =  1           # function periodicity in seconds\n",
    "N  =  1000        # number of discretization points\n",
    "\n",
    "t  =  np.linspace(0, T, N)\n",
    "f1 =  np.zeros(N)\n",
    "\n",
    "f1[:N//2] = 2.0   # first half period is filled\n",
    "f1 =   f1 - 1.0   # f1 has zero mean and amplitude one\n"
   ]
  },
  {
   "cell_type": "markdown",
   "metadata": {},
   "source": [
    "Then we reconstitutes this same function from Fourier series as given before, but limiting\n",
    "the infinite summation to only ```Nk``` terms:"
   ]
  },
  {
   "cell_type": "code",
   "execution_count": 3,
   "metadata": {},
   "outputs": [
    {
     "data": {
      "image/png": "[encoded data removed]",
      "text/plain": [
       "<Figure size 576x432 with 1 Axes>"
      ]
     },
     "metadata": {
      "needs_background": "light"
     },
     "output_type": "display_data"
    }
   ],
   "source": [
    "Nk =  5\n",
    "f2 =  np.zeros(N)\n",
    "\n",
    "for k in range(1, Nk+1, 2):\n",
    "    f2  +=  np.sin(2*k*np.pi*t/T)/k\n",
    "\n",
    "f2 *= 4/np.pi\n",
    "\n",
    "plt.figure(1, figsize=(8, 6), clear=True)\n",
    "plt.plot(t, f1, 'b', t, f2, 'r')\n",
    "\n",
    "plt.xlim( 0, T);  plt.xlabel('time (s)') \n",
    "plt.ylim(-2, 2);  plt.ylabel('f(t)') \n",
    "\n",
    "plt.grid(True) \n"
   ]
  },
  {
   "cell_type": "markdown",
   "metadata": {},
   "source": [
    "The approximation accuracy can be explored by changing the value assigned to ```Nk``` in\n",
    "the calculation above. \n",
    "\n",
    "It must be emphasized that the series coefficients $a_k$ and $b_k$ hold information about\n",
    "how to _reconstitutes_ the original function $f(t)$, so they may be seen as _transformed_\n",
    "functions of variable $\\omega_k$ instead of variable $t$.\n",
    "We will come back later showing how to numerically estimate the Fourier coefficients \n",
    "for any periodic function.\n",
    "\n",
    "Once the Fourier series concept has been understood, the _Fourier transform_ is presented \n",
    "in the next section as a extension of the Fourier series concept for $T \\rightarrow \\infty$.\n"
   ]
  },
  {
   "cell_type": "markdown",
   "metadata": {},
   "source": [
    "## 2. Formal definition  <a name=\"section_2\"></a> \n",
    "\n",
    "The Fourier series expansion can also be expressed for any real or complex function $f(t)$\n",
    "by replacing the sine and cosine functions in the previous definition with the \n",
    "Euler's formula:\n",
    "\n",
    "$$ e^{i\\omega_k t} = \\cos \\omega_k t + i \\sin_k \\omega t$$\n",
    "\n",
    "what gives:\n",
    "\n",
    "$$ f(t) =  \\sum_{k = -\\infty}^\\infty {F_k \\, e^{i \\omega_k t}} $$\n",
    "\n",
    "where:\n",
    "\n",
    "$$ F_k = \\frac{1}{T} \\int_{-T/2}^{T/2} {e^{-i \\omega_k t}} \\; f(t) \\; dt $$\n",
    "\n",
    "with $ k = 0, \\pm 1, \\pm 2, \\dots\\, \\pm \\infty$.\n",
    "\n",
    "Now the function periodicity is allowed to increase to infinite to yield the following limits:\n",
    "\n",
    "\\begin{align*}\n",
    "                               T  &\\rightarrow  \\infty    \\\\\n",
    "      \\omega_k = k \\Delta \\omega  &\\rightarrow  \\omega    \\\\\n",
    "          \\Delta \\omega = 2\\pi/T  &\\rightarrow   0\n",
    "\\end{align*}\n",
    "\n",
    "and also the definition:\n",
    "\n",
    "$$ \\lim_{T \\rightarrow \\infty} \\; \\left( T \\; F_k  \\right)\n",
    " = \\lim_{\\Delta \\omega \\rightarrow 0} \\; \\left( \\frac{2 \\pi} {\\Delta \\omega} \\; F_k \\right)\n",
    " = F(\\omega)$$\n",
    "\n",
    "which replaced on the series expansion for $f(t)$ gives:\n",
    "\n",
    "$$ f(t) = \\lim_{\\Delta \\omega \\rightarrow 0} \\; \n",
    "          \\left[ \\frac{1}{2 \\pi} \\sum_{k = -\\infty}^\\infty  e^{i \\omega_k t} \n",
    "          \\left( \\frac{2 \\pi}{\\Delta \\omega} \\; F_k  \\right)\n",
    "          \\Delta \\omega \\right] $$\n",
    "\n",
    "and hence:\n",
    "\n",
    "$$ f(t) = \\frac{1}{2\\pi}\\int_{-\\infty}^{\\infty} {e^{i\\omega t}\\; F(\\omega) \\; d\\omega}\n",
    "        = \\mathscr{F}^{-1} \\left\\{ F(\\omega) \\right\\} $$\n",
    "\n",
    "with:\n",
    "\n",
    "$$ F(\\omega) = \\int_{-\\infty}^{\\infty} e^{-i\\omega t}\\; f(t) \\; dt \n",
    "             = \\mathscr{F}\\left\\{ f(t) \\right\\} $$\n",
    "\n",
    "which are the inverse and the direct _Fourier Transform_ definitions, respectively.\n",
    "Observing that both integral bounds are infinite, the function $f(t)$ \n",
    "must fulfill some special conditions such that the integral convergence\n",
    "can be ensured.\n",
    "The most important condition is that the integral of $\\left| f(t) \\right|$ \n",
    "over the complete domain exists:\n",
    "\n",
    "$$ \\exists \\int_{-\\infty}^{\\infty} \\left| f(\\xi) \\right| \\; d\\xi \\in {\\mathbb C}$$\n",
    "\n",
    "although in some special cases the transformation is possible even if this \n",
    "condition is not fulfilled.\n",
    "\n",
    "The transform of a given function and its inverse constitutes a so-called\n",
    "_transform pair_, usually represented as:\n",
    "\n",
    "$$ f(t) \\Longleftrightarrow F(\\omega) $$\n",
    "\n",
    "While the use of Laplace transforms mostly rely upon _lookup tables_ or CAS \n",
    "(_Computer Algebra Systems_), the Fourier transform, both direct and inverse, \n",
    "is usually evaluated by means of numerical techniques. \n",
    "Nevertheless, some fundamental functions and theorems must receive special \n",
    "attention as follows.\n"
   ]
  },
  {
   "cell_type": "markdown",
   "metadata": {},
   "source": [
    "## 3. Fourier transform of some basic functions <a name=\"section_3\"></a> \n",
    "\n",
    "### 3.1. Constant function <a name=\"section_31\"></a> \n",
    "\n",
    "The constant function, $f(t) = c$, does not fulfill the condition for the transform existence\n",
    "(its integral over the whole domain is infinite), but by assuming that the inverse\n",
    "transform exists:\n",
    "\n",
    "$$ c  = \\frac{1}{2 \\pi} \\int_{-\\infty}^{\\infty} e^{i\\omega t}\\; F(\\omega) \\; dt $$\n",
    "\n",
    "it can be observed that the only function satifying the integral is the Dirac's Delta:\n",
    "\n",
    "$$ F(\\omega) = 2\\pi c \\; \\delta(\\omega) $$\n",
    "\n",
    "We will numerically demonstrate this result later on.\n"
   ]
  },
  {
   "cell_type": "markdown",
   "metadata": {},
   "source": [
    "### 3.2. Sine and cosine functions <a name=\"section_32\"></a> \n",
    "\n",
    "The trigonometric functions $\\sin(\\omega_0 t)$ and $\\cos(\\omega_0 t)$ also do not fulfill\n",
    "the condition for transform existence but, in the same way as for the constant function,\n",
    "a meaningful transform can be found. \n",
    "Observe that a given $\\omega_0$ is being used instead of the independent variable $\\omega$.\n",
    "\n",
    "Let us assume that the inverse transform of the Euler's formula exists:\n",
    "\n",
    "$$ f(t) = e^{i\\omega_0 t} = \\frac{1}{2 \\pi} \n",
    "          \\int_{-\\infty}^{\\infty} e^{i\\omega t}\\; F(\\omega) \\; dt $$\n",
    "\n",
    "then again the only function satisfying this integral is the Dirac's Delta at $\\omega_0$.\n",
    "\n",
    "$$ F(\\omega) = 2 \\pi \\; \\delta (\\omega - \\omega_0)$$\n",
    "\n",
    "By going back from Euler's formula it can be easily demonstrated that for the cosine function\n",
    "it gives:\n",
    "\n",
    "$$ \\mathscr{F} \\left\\{ \\cos (\\omega_0 t) \\right\\} = \n",
    "   \\pi \\left[ \\delta(\\omega + \\omega_0) + \\delta(\\omega - \\omega_0) \\right]$$\n",
    "\n",
    "and similarly for the sine function:\n",
    "\n",
    "$$ \\mathscr{F} \\left\\{ \\sin (\\omega_ t) \\right\\} = \n",
    "   i\\pi \\left[ \\delta(\\omega + \\omega_0) - \\delta(\\omega - \\omega_0) \\right]$$\n",
    "\n",
    "These two transforms are depicted below.\n",
    "\n",
    "<img src=\"images/Fourier_sine_cosine.png\" alt=\"Heaviside\" width=\"720px\"/>\n",
    "\n",
    "It can be seen that the cosine transform converges to the constant function transform\n",
    "as the frequency $\\omega_0$ goes to zero.\n",
    "These results will also be demonstrated after we introduce the numerical approach\n",
    "to the Fourier transform.\n"
   ]
  },
  {
   "cell_type": "markdown",
   "metadata": {},
   "source": [
    "## 4. Transformation of derivatives <a name=\"section_4\"></a> \n",
    "\n",
    "The transformation of derivatives is essential for using Fourier transform \n",
    "for solving differential equations.\n",
    "The transform of a derivative is expressed as:\n",
    "\n",
    "$$ \\mathscr{F} \\left\\{ \\dot{f}(t) \\right\\} = \n",
    "   \\int_{-\\infty}^{\\infty} e^{-i\\omega t} \\; \\dot{f}(t) \\; dt $$\n",
    "\n",
    "This can be solved through integration by parts by defining:\n",
    "\n",
    "\\begin{array}{ll}\n",
    "   u  &= e^{-i\\omega t}              \\hspace{2cm}  &dv = \\dot{f}(t) \\; dt \\\\\n",
    "   du &= -i\\omega e^{-i\\omega t} dt                &v  = f(t)         \n",
    "\\end{array}\n",
    "\n",
    "and replacing in:\n",
    "\n",
    "$$ \\int u \\; dv = uv - \\int v \\; du$$\n",
    "\n",
    "Assuming that the function $f(t)$ may be zero at the far ends of the integration domain\n",
    "implies that the product $uv$ may be considered to vanish and hence:\n",
    "\n",
    "$$ \\int_{-/infty}^{\\infty} e^{-i\\omega t} \\; \\dot{f}(t) \\; dt = \n",
    "   0 + i\\omega \\int_{-\\infty}^{\\infty} e^{-i\\omega t} \\; f(t) \\; dt$$\n",
    "\n",
    "and hence:\n",
    "\n",
    "$$ \\mathscr{F} \\left\\{ \\dot{f}(t) \\right\\} = i\\omega F(\\omega)$$\n",
    "\n",
    "For solving the dynamic equilibrium equation of linear systems, the second time\n",
    "derivative of $f(t)$ will also be necessary.\n",
    "Applying again the derivation rule results:\n",
    "\n",
    "$$ \\mathscr{F} \\left\\{ \\ddot{f}(t) \\right\\} = -\\omega^2 F(\\omega) $$\n",
    "\n",
    "Time derivatives of higher order can be calculated but will not be necessary in the\n",
    "present context.\n"
   ]
  },
  {
   "cell_type": "markdown",
   "metadata": {},
   "source": [
    "## 5. The convolution and translation theorems <a name=\"section_5\"></a> \n",
    "\n",
    "The convolution and translation theorems previously presented for Laplace transform\n",
    "also apply to the Fourier transform.\n",
    "The convolution reads:\n",
    "\n",
    "$$ \\mathscr{F} \\left\\{ f(t) * g(t) \\right\\} = F(\\omega) \\; G(\\omega) $$\n",
    "\n",
    "while the translation in frequency and time domain reads:\n",
    "\n",
    "$$ \\mathscr{F} \\left\\{ e^{\\omega_0 t} f(t) \\right\\} =  F(\\omega - \\omega_0) $$\n",
    "\n",
    "$$ \\mathscr{F} \\left\\{ f(t - \\tau) \\right\\} =  e^{-\\omega \\tau} \\; F(\\omega) $$\n",
    "\n",
    "These theorems will be of little use in this course.\n"
   ]
  },
  {
   "cell_type": "markdown",
   "metadata": {},
   "source": [
    "## 6. The Fast Fourier Transform (FFT) <a name=\"section_6\"></a> \n",
    "\n",
    "While there is no explicit form for the inverse Laplace transform, it was shown above that\n",
    "the same does not happen for the Fourier transform.\n",
    "This means that it can be numerically evaluated in both ways by means of a time and \n",
    "frequency domains discretization:\n",
    "\n",
    "\\begin{align*}\n",
    "\\omega_k &= k \\left( \\frac{2\\pi}{T} \\right), \\;\\;\\; k = 0, 1, 2, \\dots, N-1  \\\\ \\\\\n",
    "     t_i &= i \\left( \\frac{T}{N} \\right),    \\;\\;\\; i = 0, 1, 2, \\dots, N-1  \n",
    "\\end{align*}\n",
    "\n",
    "where $N$ is the length of a time series $f_i = f(t_i)$ with total duration $T$.\n",
    "The numerical calculation of the direct and inverse transforms are then:\n",
    "\n",
    "\\begin{align*}\n",
    "F_k &=             \\sum_{i=0}^{N-1} {f_i \\; \\exp\\left(-\\omega_k t_i \\right)} \\\\ \\\\\n",
    "f_i &= \\frac{1}{N} \\sum_{k=0}^{N-1} {F_k \\; \\exp\\left( \\omega_k t_i \\right)}\n",
    "\\end{align*}\n",
    "\n",
    "Observe that all the computation above requires $N^2$ evaluations of the \n",
    "trigonometric function $\\exp\\left(2\\pi k i \\right)$. \n",
    "Recognizing that the multiple permutations of indices $k$ and $i$ could be \n",
    "accounted to save computational time inspired the famous FFT algorithm by\n",
    "[Cooley and Tukey](https://en.wikipedia.org/wiki/Cooley%E2%80%93Tukey_FFT_algorithm),\n",
    "which may reduce the number of exponential function evaluations up to $2N$.\n",
    "This algorithm is now implemented in many digital signal processing programs\n",
    "and is also available in the ```numpy``` and ```scipy``` modules in Python.\n",
    "\n",
    "For example, let us calculate the FFT of a constant function, as presented earlier:\n"
   ]
  },
  {
   "cell_type": "code",
   "execution_count": 8,
   "metadata": {},
   "outputs": [
    {
     "name": "stdout",
     "output_type": "stream",
     "text": [
      "[1. 1. 1. 1. 1. 1. 1. 1.]\n",
      "[8. 0. 0. 0. 0. 0. 0. 0.]\n",
      "[ 0. -0.  0.  0.  0. -0. -0.  0.]\n"
     ]
    }
   ],
   "source": [
    "N  = 8                    # length of time series\n",
    "f  = np.ones(N)           # assigning constant value 1\n",
    "F  = np.fft.fft(f)        # calling FFT numpy function\n",
    "\n",
    "print(f)\n",
    "print(F.real)\n",
    "print(F.imag)\n"
   ]
  },
  {
   "cell_type": "markdown",
   "metadata": {},
   "source": [
    "what shows that the result is a real impulse function (discrete Dirac's Delta) at the origin.\n",
    "Now let us look at the cosine function:"
   ]
  },
  {
   "cell_type": "code",
   "execution_count": 40,
   "metadata": {},
   "outputs": [
    {
     "data": {
      "image/png": "[encoded data removed]",
      "text/plain": [
       "<Figure size 576x288 with 1 Axes>"
      ]
     },
     "metadata": {
      "needs_background": "light"
     },
     "output_type": "display_data"
    },
    {
     "data": {
      "image/png": "[encoded data removed]",
      "text/plain": [
       "<Figure size 576x288 with 1 Axes>"
      ]
     },
     "metadata": {
      "needs_background": "light"
     },
     "output_type": "display_data"
    }
   ],
   "source": [
    "N  = 16                  # length of time series\n",
    "T  = 1.                  # series total duration\n",
    "f0 = 2.                  # sine/cosine frequency (in Hertz)\n",
    "\n",
    "k  = np.arange(0, N+1)   # required for f_k calculation\n",
    "ti = k*T/N               # discrete time domain\n",
    "fk = k/T                 # discrete frequency domain\n",
    "\n",
    "si = np.cos(2*np.pi*f0*ti)\n",
    "Sk = np.fft.fft(si)\n",
    "\n",
    "plt.figure(2, figsize=(8, 4), clear=True)\n",
    "plt.plot(ti, si)\n",
    "plt.xlim( 0, T);  plt.xlabel('time (s)') \n",
    "plt.ylim(-2, 2);  plt.ylabel('f(t)') \n",
    "plt.grid(True) \n",
    "\n",
    "plt.figure(3, figsize=(8, 4), clear=True)\n",
    "plt.plot(fk, np.abs(Sk))\n",
    "plt.xlim( 0, N/T);  plt.xlabel('frequency (Hz)')\n",
    "plt.ylim( 0, N  );  plt.ylabel('|F_k|') \n",
    "plt.grid(True) \n"
   ]
  },
  {
   "cell_type": "markdown",
   "metadata": {},
   "source": [
    "There are some few important issues to understand the numerical result above:\n",
    "\n",
    "1. To get maximum algorithm efficiency, the length $N$ must be a power of 2.\n",
    "2. The value of $F_k$ for $k = 0$ is zero if $f(t)$ has zero mean.\n",
    "3. If $f(t)$ is real, the second half of $F_k$ is the complex conjugate of the first half.\n",
    "4. \n",
    "\n"
   ]
  },
  {
   "cell_type": "markdown",
   "metadata": {},
   "source": [
    "## 7. Fourier series coefficients from FFT <a name=\"section_7\"></a> \n",
    "\n",
    "Let us assume that...\n"
   ]
  },
  {
   "cell_type": "code",
   "execution_count": null,
   "metadata": {},
   "outputs": [],
   "source": []
  },
  {
   "cell_type": "markdown",
   "metadata": {},
   "source": [
    "## 8. Assignment <a name=\"section_8\"></a> \n",
    "\n",
    "Let us assume that...\n"
   ]
  },
  {
   "cell_type": "code",
   "execution_count": null,
   "metadata": {},
   "outputs": [],
   "source": []
  }
 ],
 "metadata": {
  "kernelspec": {
   "display_name": "Python 3",
   "language": "python",
   "name": "python3"
  },
  "language_info": {
   "codemirror_mode": {
    "name": "ipython",
    "version": 3
   },
   "file_extension": ".py",
   "mimetype": "text/x-python",
   "name": "python",
   "nbconvert_exporter": "python",
   "pygments_lexer": "ipython3",
   "version": "3.7.1"
  }
 },
 "nbformat": 4,
 "nbformat_minor": 2
}
